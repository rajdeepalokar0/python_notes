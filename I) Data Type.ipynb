{
 "cells": [
  {
   "cell_type": "markdown",
   "id": "92e304cf",
   "metadata": {},
   "source": [
    "# variables \"in python use to store certain data \n",
    "like bucket "
   ]
  },
  {
   "cell_type": "code",
   "execution_count": 3,
   "id": "c65aa3d3",
   "metadata": {},
   "outputs": [
    {
     "name": "stdout",
     "output_type": "stream",
     "text": [
      "80\n"
     ]
    }
   ],
   "source": [
    "siva_marks = 90\n",
    "siva_marks = siva_marks-10\n",
    "print(siva_marks)              # previous value removed and new value stored in variable ( value store in RAM)"
   ]
  },
  {
   "cell_type": "code",
   "execution_count": 5,
   "id": "9c4dffa3",
   "metadata": {},
   "outputs": [],
   "source": [
    "siva_marks = 90"
   ]
  },
  {
   "cell_type": "code",
   "execution_count": 12,
   "id": "85e72bb3",
   "metadata": {},
   "outputs": [],
   "source": [
    "siva_marks = 90\n",
    "Siva_marks = 90\n",
    "\n",
    "\n",
    "_siva_marks = 90"
   ]
  },
  {
   "cell_type": "markdown",
   "id": "a5006f33",
   "metadata": {},
   "source": [
    "- special character = ! @ # $ % ^ & * ( ) / \\ [ ] - space  ==> not allowed in variable\n",
    "- only special character that is allowed _\n",
    "- number is now allowed at the begnning of variable(only underscore & alphabets allowed in the begnning)\n",
    "- any special character apart from[ _(underscore)] not allowed in variables\n"
   ]
  },
  {
   "cell_type": "code",
   "execution_count": null,
   "id": "d7587839",
   "metadata": {},
   "outputs": [],
   "source": [
    "a) siva_marks = 90\n",
    "b) siva-marks = 90   \n",
    "c) 1siva_marks = 90  \n",
    "d) Siva1_marks = 90\n",
    "e) SivaMarks = 90\n",
    "f) S9marks = 90\n",
    "g) 9siva_marks = 90  \n",
    "h) siva_marks90 = 90\n",
    "i) sivamarks_ = 90"
   ]
  },
  {
   "cell_type": "code",
   "execution_count": 46,
   "id": "4be718dc",
   "metadata": {},
   "outputs": [],
   "source": [
    "SIVA = 10\n",
    "siva = 20\n",
    "SivA = 30    # python is case-sensetive language"
   ]
  },
  {
   "cell_type": "code",
   "execution_count": null,
   "id": "c619756c",
   "metadata": {},
   "outputs": [],
   "source": [
    "b,c,g-> incorrect variable names"
   ]
  },
  {
   "cell_type": "code",
   "execution_count": null,
   "id": "38c9a88b",
   "metadata": {},
   "outputs": [],
   "source": [
    "1siva_marks = 90"
   ]
  },
  {
   "cell_type": "code",
   "execution_count": null,
   "id": "4cff1ee5",
   "metadata": {},
   "outputs": [],
   "source": []
  },
  {
   "cell_type": "markdown",
   "id": "bdc56b85",
   "metadata": {},
   "source": [
    "# Data Type-  immutable(number,string,tuple) mutable(list,dict,set)\n",
    "           immutable - changes are not allowed                         mutable - changes are allowed \n",
    "###  1) number- integer, float, Complex datatype(5+7j)"
   ]
  },
  {
   "cell_type": "code",
   "execution_count": 5,
   "id": "f200f3e7",
   "metadata": {},
   "outputs": [
    {
     "name": "stdout",
     "output_type": "stream",
     "text": [
      "30\n"
     ]
    },
    {
     "data": {
      "text/plain": [
       "int"
      ]
     },
     "execution_count": 5,
     "metadata": {},
     "output_type": "execute_result"
    }
   ],
   "source": [
    "a = 10\n",
    "a = 30   # previous value removed and new value store\n",
    "print(a)\n",
    "type(a)"
   ]
  },
  {
   "cell_type": "code",
   "execution_count": 18,
   "id": "ef35524c",
   "metadata": {},
   "outputs": [
    {
     "data": {
      "text/plain": [
       "int"
      ]
     },
     "execution_count": 18,
     "metadata": {},
     "output_type": "execute_result"
    }
   ],
   "source": [
    "num = 19                            # but input() value store in str datatype\n",
    "type(num)"
   ]
  },
  {
   "cell_type": "code",
   "execution_count": 21,
   "id": "38d16f1f",
   "metadata": {},
   "outputs": [
    {
     "name": "stdout",
     "output_type": "stream",
     "text": [
      "<class 'float'>\n"
     ]
    }
   ],
   "source": [
    "num1 = 19.01\n",
    "print(type(num1))"
   ]
  },
  {
   "cell_type": "code",
   "execution_count": 28,
   "id": "21ff772e",
   "metadata": {},
   "outputs": [
    {
     "name": "stdout",
     "output_type": "stream",
     "text": [
      "(15+13j)\n"
     ]
    }
   ],
   "source": [
    "num2 = 10 + 6j\n",
    "num3 = 5 + 7j\n",
    "print(num2+num3)"
   ]
  },
  {
   "cell_type": "code",
   "execution_count": 32,
   "id": "0c41f35a",
   "metadata": {},
   "outputs": [
    {
     "name": "stdout",
     "output_type": "stream",
     "text": [
      "<class 'complex'>\n"
     ]
    }
   ],
   "source": [
    "num5 = 7j\n",
    "print(type(num5))"
   ]
  },
  {
   "cell_type": "code",
   "execution_count": 7,
   "id": "faee2e01",
   "metadata": {},
   "outputs": [
    {
     "name": "stdout",
     "output_type": "stream",
     "text": [
      "31\n",
      "210\n",
      "-11\n",
      "2.1\n",
      "2\n"
     ]
    }
   ],
   "source": [
    "num1 = 10\n",
    "num2 = 21\n",
    "print(num1+num2)\n",
    "print(num1*num2)\n",
    "print(num1-num2)\n",
    "print(num2/num1)  \n",
    "print(num2//num1)   # to get float ans in int form"
   ]
  },
  {
   "cell_type": "code",
   "execution_count": 2,
   "id": "5e700ac1",
   "metadata": {},
   "outputs": [
    {
     "name": "stdout",
     "output_type": "stream",
     "text": [
      "2.0\n",
      "2\n"
     ]
    }
   ],
   "source": [
    "a= 10/5\n",
    "print(a)\n",
    "b= 10//5\n",
    "print(b)"
   ]
  },
  {
   "cell_type": "code",
   "execution_count": 35,
   "id": "206163ec",
   "metadata": {},
   "outputs": [
    {
     "name": "stdout",
     "output_type": "stream",
     "text": [
      "10\n",
      "20\n"
     ]
    }
   ],
   "source": [
    "num1  =10\n",
    "print(num1)\n",
    "num2 = 20\n",
    "print(num2)"
   ]
  },
  {
   "cell_type": "code",
   "execution_count": 43,
   "id": "c929b50f",
   "metadata": {},
   "outputs": [
    {
     "name": "stdout",
     "output_type": "stream",
     "text": [
      "1\n"
     ]
    }
   ],
   "source": [
    "num1 = 9\n",
    "num2 = 2\n",
    "num3 = 11\n",
    "\n",
    "remainder = 9%2   # modulus operator--> to get remainder part\n",
    "print(remainder)\n"
   ]
  },
  {
   "cell_type": "code",
   "execution_count": 47,
   "id": "3d17332d",
   "metadata": {},
   "outputs": [
    {
     "data": {
      "text/plain": [
       "1"
      ]
     },
     "execution_count": 47,
     "metadata": {},
     "output_type": "execute_result"
    }
   ],
   "source": [
    "# check whether 19 is a even number\n",
    "19%2    # if o/p 1 thengiven number odd and when 0 then even"
   ]
  },
  {
   "cell_type": "code",
   "execution_count": 15,
   "id": "695df481",
   "metadata": {},
   "outputs": [
    {
     "name": "stdout",
     "output_type": "stream",
     "text": [
      "23\n",
      "1\n"
     ]
    }
   ],
   "source": [
    "x = int(input()) #we  use int because value  input stored in string so convert it.\n",
    "y = x%2\n",
    "print(y)"
   ]
  },
  {
   "cell_type": "code",
   "execution_count": 8,
   "id": "ba782eac",
   "metadata": {},
   "outputs": [],
   "source": [
    "#check whether 19 is a even number -> comments that are for developer reference"
   ]
  },
  {
   "cell_type": "code",
   "execution_count": 9,
   "id": "be534495",
   "metadata": {},
   "outputs": [
    {
     "data": {
      "text/plain": [
       "0"
      ]
     },
     "execution_count": 9,
     "metadata": {},
     "output_type": "execute_result"
    }
   ],
   "source": [
    "# check whether 18 is an even number\n",
    "18%2"
   ]
  },
  {
   "cell_type": "code",
   "execution_count": 41,
   "id": "0f810235",
   "metadata": {},
   "outputs": [],
   "source": [
    "num5 = 1j"
   ]
  },
  {
   "cell_type": "code",
   "execution_count": 44,
   "id": "7485a6dc",
   "metadata": {},
   "outputs": [
    {
     "data": {
      "text/plain": [
       "29"
      ]
     },
     "execution_count": 44,
     "metadata": {},
     "output_type": "execute_result"
    }
   ],
   "source": [
    "num1*num2 + num3"
   ]
  },
  {
   "cell_type": "markdown",
   "id": "fbf70432",
   "metadata": {},
   "source": [
    "#  2) List datatype"
   ]
  },
  {
   "cell_type": "code",
   "execution_count": 50,
   "id": "0579922b",
   "metadata": {},
   "outputs": [],
   "source": [
    "## 57 students and I want to store there marks"
   ]
  },
  {
   "cell_type": "code",
   "execution_count": null,
   "id": "452826f0",
   "metadata": {},
   "outputs": [],
   "source": [
    "student_1 = 59\n",
    "student_2 = 90\n",
    "student_3 = 61\n",
    "student_4 = 89   #here need to create different variable for diff no. but in list do not need to create multiple variables"
   ]
  },
  {
   "cell_type": "code",
   "execution_count": 2,
   "id": "9cb80f5b",
   "metadata": {},
   "outputs": [],
   "source": [
    "student_marks = [59,90,61,89,99.9]      # list datatype to store group of data and in one list can be multiple type of data\n",
    "                                        # array store same data type but list can store diff datatype within"
   ]
  },
  {
   "cell_type": "code",
   "execution_count": 57,
   "id": "d96c9d71",
   "metadata": {},
   "outputs": [
    {
     "name": "stdout",
     "output_type": "stream",
     "text": [
      "[59, 90, 61, 89, 99.9]\n"
     ]
    }
   ],
   "source": [
    "print(student_marks)"
   ]
  },
  {
   "cell_type": "code",
   "execution_count": 55,
   "id": "a4982b71",
   "metadata": {},
   "outputs": [
    {
     "name": "stdout",
     "output_type": "stream",
     "text": [
      "<class 'list'>\n"
     ]
    }
   ],
   "source": [
    "print(type(student_marks))"
   ]
  },
  {
   "cell_type": "code",
   "execution_count": 58,
   "id": "86b5299b",
   "metadata": {},
   "outputs": [
    {
     "data": {
      "text/plain": [
       "89"
      ]
     },
     "execution_count": 58,
     "metadata": {},
     "output_type": "execute_result"
    }
   ],
   "source": [
    "student_marks[3]                # indexing start from 0,1,2,3,4,5,...."
   ]
  },
  {
   "cell_type": "code",
   "execution_count": 59,
   "id": "74bcd94f",
   "metadata": {},
   "outputs": [
    {
     "data": {
      "text/plain": [
       "89"
      ]
     },
     "execution_count": 59,
     "metadata": {},
     "output_type": "execute_result"
    }
   ],
   "source": [
    "student_marks[-2]             # reverse indexing starts from -1,-2,-3,-4,......."
   ]
  },
  {
   "cell_type": "code",
   "execution_count": 1,
   "id": "66c27513",
   "metadata": {},
   "outputs": [
    {
     "data": {
      "text/plain": [
       "5"
      ]
     },
     "execution_count": 1,
     "metadata": {},
     "output_type": "execute_result"
    }
   ],
   "source": [
    "student_marks = [59,90,61,89,99.9]\n",
    "len(student_marks)                   # use this function to get number of elements"
   ]
  },
  {
   "cell_type": "code",
   "execution_count": 64,
   "id": "32a0db1f",
   "metadata": {},
   "outputs": [
    {
     "data": {
      "text/plain": [
       "5"
      ]
     },
     "execution_count": 64,
     "metadata": {},
     "output_type": "execute_result"
    }
   ],
   "source": [
    "\"\"\"\n",
    "number of elements stored in list\n",
    "hi this is second line comment\n",
    "\"\"\"\n",
    "\n",
    "# number of elements stored in list\n",
    "# hi this is second line comment    (control forward slash)\n",
    "\n",
    "len(student_marks)"
   ]
  },
  {
   "cell_type": "code",
   "execution_count": 67,
   "id": "75c7e2d7",
   "metadata": {},
   "outputs": [
    {
     "data": {
      "text/plain": [
       "[59, 90, 61, 89, 99.9]"
      ]
     },
     "execution_count": 67,
     "metadata": {},
     "output_type": "execute_result"
    }
   ],
   "source": [
    "student_marks"
   ]
  },
  {
   "cell_type": "code",
   "execution_count": 74,
   "id": "4e9867da",
   "metadata": {},
   "outputs": [
    {
     "data": {
      "text/plain": [
       "[90, 61, 89, 99.9]"
      ]
     },
     "execution_count": 74,
     "metadata": {},
     "output_type": "execute_result"
    }
   ],
   "source": [
    "student_marks[1:]                  # nothing mean continue"
   ]
  },
  {
   "cell_type": "code",
   "execution_count": 72,
   "id": "f9d41fbd",
   "metadata": {},
   "outputs": [
    {
     "data": {
      "text/plain": [
       "[90, 61, 89]"
      ]
     },
     "execution_count": 72,
     "metadata": {},
     "output_type": "execute_result"
    }
   ],
   "source": [
    "## slicing of list\n",
    "student_marks[1:4]             # 4th will not include"
   ]
  },
  {
   "cell_type": "code",
   "execution_count": 63,
   "id": "145662e0",
   "metadata": {},
   "outputs": [
    {
     "name": "stdout",
     "output_type": "stream",
     "text": [
      "61 99.9\n"
     ]
    }
   ],
   "source": [
    "print(student_marks[2],student_marks[4])\n"
   ]
  },
  {
   "cell_type": "code",
   "execution_count": 71,
   "id": "8dae8359",
   "metadata": {},
   "outputs": [],
   "source": [
    "random_list = [1,2,3,4,\"Chatterjee\"]                        # list can be include different data type in single list"
   ]
  },
  {
   "cell_type": "code",
   "execution_count": 4,
   "id": "95759a49",
   "metadata": {},
   "outputs": [],
   "source": [
    "random_num = [1,2,3,4,5,6,7,8,9,10]\n"
   ]
  },
  {
   "cell_type": "code",
   "execution_count": 5,
   "id": "4206369e",
   "metadata": {},
   "outputs": [
    {
     "data": {
      "text/plain": [
       "[2, 4, 6, 8, 10]"
      ]
     },
     "execution_count": 5,
     "metadata": {},
     "output_type": "execute_result"
    }
   ],
   "source": [
    "random_num[1::2]                     #random_num[start:end:step_size]"
   ]
  },
  {
   "cell_type": "code",
   "execution_count": 6,
   "id": "53ac3ce2",
   "metadata": {},
   "outputs": [
    {
     "data": {
      "text/plain": [
       "[1, 3, 5, 7, 9]"
      ]
     },
     "execution_count": 6,
     "metadata": {},
     "output_type": "execute_result"
    }
   ],
   "source": [
    "random_num[0::2]"
   ]
  },
  {
   "cell_type": "code",
   "execution_count": 7,
   "id": "e950ad1e",
   "metadata": {},
   "outputs": [
    {
     "data": {
      "text/plain": [
       "[2, 3, 4, 5, 6, 7, 8, 9]"
      ]
     },
     "execution_count": 7,
     "metadata": {},
     "output_type": "execute_result"
    }
   ],
   "source": [
    "random_num[1:-1]                # last element not included"
   ]
  },
  {
   "cell_type": "code",
   "execution_count": null,
   "id": "6579f435",
   "metadata": {},
   "outputs": [],
   "source": [
    "random_num[start:end:step_size]"
   ]
  },
  {
   "cell_type": "code",
   "execution_count": 9,
   "id": "0553e78e",
   "metadata": {},
   "outputs": [
    {
     "data": {
      "text/plain": [
       "[1, 2, 3, 4, 5, 6, 7, 8, 9, 10]"
      ]
     },
     "execution_count": 9,
     "metadata": {},
     "output_type": "execute_result"
    }
   ],
   "source": [
    "random_num"
   ]
  },
  {
   "cell_type": "code",
   "execution_count": 10,
   "id": "443a47d5",
   "metadata": {},
   "outputs": [
    {
     "data": {
      "text/plain": [
       "[1, 2, 3, 4, 5, 6, 7, 8, 9, 10]"
      ]
     },
     "execution_count": 10,
     "metadata": {},
     "output_type": "execute_result"
    }
   ],
   "source": [
    "random_num"
   ]
  },
  {
   "cell_type": "code",
   "execution_count": 85,
   "id": "88ff1e21",
   "metadata": {},
   "outputs": [],
   "source": [
    "name_list = [\"Sachin\",'Pranay']"
   ]
  },
  {
   "cell_type": "code",
   "execution_count": 87,
   "id": "944bad18",
   "metadata": {},
   "outputs": [],
   "source": [
    "## concatenation of list i.e. attached other list at the end of list\n",
    "new_list = random_num + name_list          # random_num + [\"Sachin\",\"Pranay\"]  <-- this also can write"
   ]
  },
  {
   "cell_type": "code",
   "execution_count": 88,
   "id": "6b3a4755",
   "metadata": {},
   "outputs": [
    {
     "data": {
      "text/plain": [
       "[1, 2, 3, 4, 5, 6, 7, 8, 9, 10, 'Sachin', 'Pranay']"
      ]
     },
     "execution_count": 88,
     "metadata": {},
     "output_type": "execute_result"
    }
   ],
   "source": [
    "new_list"
   ]
  },
  {
   "cell_type": "code",
   "execution_count": 89,
   "id": "cb41a6a3",
   "metadata": {},
   "outputs": [],
   "source": [
    "## appending element to the end of list (use to add one element at end of list)\n",
    "new_list.append('Ribin')"
   ]
  },
  {
   "cell_type": "code",
   "execution_count": 90,
   "id": "479a8722",
   "metadata": {},
   "outputs": [
    {
     "data": {
      "text/plain": [
       "[1, 2, 3, 4, 5, 6, 7, 8, 9, 10, 'Sachin', 'Pranay', 'Ribin']"
      ]
     },
     "execution_count": 90,
     "metadata": {},
     "output_type": "execute_result"
    }
   ],
   "source": [
    "new_list"
   ]
  },
  {
   "cell_type": "markdown",
   "id": "2aeb9d10",
   "metadata": {},
   "source": [
    "## Homework\n",
    "\n",
    "Given a list of marks of students\n",
    "[10,20,90,99,45,76,88]\n",
    "- get the last two students marks\n",
    "- starting from the first student marks create a list of marks of every third student\n",
    "- in the above list add two more students marks i.e. add 87,67"
   ]
  },
  {
   "cell_type": "code",
   "execution_count": 21,
   "id": "0085941f",
   "metadata": {},
   "outputs": [
    {
     "name": "stdout",
     "output_type": "stream",
     "text": [
      "[76, 88]\n",
      "[10, 99, 88]\n",
      "[10, 20, 90, 99, 45, 76, 88, 87, 67]\n"
     ]
    }
   ],
   "source": [
    "marks_of_students = [10,20,90,99,45,76,88]\n",
    "print(marks_of_students[-2:])\n",
    "print(marks_of_students[0::3])\n",
    "marks_of_students.append(87)\n",
    "marks_of_students.append(67)\n",
    "print(marks_of_students)"
   ]
  },
  {
   "cell_type": "code",
   "execution_count": null,
   "id": "46786c31",
   "metadata": {},
   "outputs": [],
   "source": [
    "## Student Queries\n",
    "\n",
    "student = [10,20,30,40,50,60]\n",
    "print(student[0:6:3])\n",
    "its giving 10,40\n",
    "why not 30,60\n",
    "----------------------------------------------------------------------------\n",
    "\n",
    "Given a list of marks of students\n",
    "\n",
    "[18,28,90,99,45,76]\n",
    "\n",
    "- get the last two students marks\n",
    "\n",
    "-starting from the first student marks create a list\n",
    "of marks of every third student in the above list \n",
    "-add two more students marks i.e. add 87,67"
   ]
  },
  {
   "cell_type": "code",
   "execution_count": 2,
   "id": "5459c6cb",
   "metadata": {},
   "outputs": [
    {
     "name": "stdout",
     "output_type": "stream",
     "text": [
      "[45, 76]\n"
     ]
    },
    {
     "data": {
      "text/plain": [
       "[45, 76]"
      ]
     },
     "execution_count": 2,
     "metadata": {},
     "output_type": "execute_result"
    }
   ],
   "source": [
    "## get the last two students marks\n",
    "student_marks = [18,28,90,99,45,76]\n",
    "print(student_marks[4:])\n",
    "print(student_marks[-2:])"
   ]
  },
  {
   "cell_type": "code",
   "execution_count": 9,
   "id": "ea4d145d",
   "metadata": {},
   "outputs": [
    {
     "data": {
      "text/plain": [
       "[18, 99, 87]"
      ]
     },
     "execution_count": 9,
     "metadata": {},
     "output_type": "execute_result"
    }
   ],
   "source": [
    "## every third student from the starting\n",
    "student_marks[0::3]\n"
   ]
  },
  {
   "cell_type": "code",
   "execution_count": 4,
   "id": "8dbe8088",
   "metadata": {},
   "outputs": [],
   "source": [
    "## add two student marks 87,67\n",
    "\n",
    "student_marks.append(87)\n",
    "student_marks.append(67)\n"
   ]
  },
  {
   "cell_type": "code",
   "execution_count": 5,
   "id": "b18b00fb",
   "metadata": {},
   "outputs": [
    {
     "name": "stdout",
     "output_type": "stream",
     "text": [
      "[18, 28, 90, 99, 45, 76, 87, 67]\n"
     ]
    }
   ],
   "source": [
    "print(student_marks)"
   ]
  },
  {
   "cell_type": "code",
   "execution_count": 5,
   "id": "a85b87de",
   "metadata": {},
   "outputs": [
    {
     "name": "stdout",
     "output_type": "stream",
     "text": [
      "[18, 28, 90, 99, 45, 76, 87, 67]\n"
     ]
    }
   ],
   "source": [
    "student_marks = [18,28,90,99,45,76]+[87,67]\n",
    "print(student_marks)"
   ]
  },
  {
   "cell_type": "code",
   "execution_count": 6,
   "id": "aca6a680",
   "metadata": {},
   "outputs": [
    {
     "data": {
      "text/plain": [
       "[18, 28, 90, 99, 45, 76, 87, 67]"
      ]
     },
     "execution_count": 6,
     "metadata": {},
     "output_type": "execute_result"
    }
   ],
   "source": [
    "[18,28,90,99,45,76]+[87,67]"
   ]
  },
  {
   "cell_type": "code",
   "execution_count": 8,
   "id": "d4dc0523",
   "metadata": {},
   "outputs": [
    {
     "data": {
      "text/plain": [
       "[18, 99, 87, 87, 67]"
      ]
     },
     "execution_count": 8,
     "metadata": {},
     "output_type": "execute_result"
    }
   ],
   "source": [
    "student_marks[0::3]+[87,67]"
   ]
  },
  {
   "cell_type": "code",
   "execution_count": 10,
   "id": "898af98c",
   "metadata": {},
   "outputs": [
    {
     "name": "stdout",
     "output_type": "stream",
     "text": [
      "Help on list object:\n",
      "\n",
      "class list(object)\n",
      " |  list(iterable=(), /)\n",
      " |  \n",
      " |  Built-in mutable sequence.\n",
      " |  \n",
      " |  If no argument is given, the constructor creates a new empty list.\n",
      " |  The argument must be an iterable if specified.\n",
      " |  \n",
      " |  Methods defined here:\n",
      " |  \n",
      " |  __add__(self, value, /)\n",
      " |      Return self+value.\n",
      " |  \n",
      " |  __contains__(self, key, /)\n",
      " |      Return key in self.\n",
      " |  \n",
      " |  __delitem__(self, key, /)\n",
      " |      Delete self[key].\n",
      " |  \n",
      " |  __eq__(self, value, /)\n",
      " |      Return self==value.\n",
      " |  \n",
      " |  __ge__(self, value, /)\n",
      " |      Return self>=value.\n",
      " |  \n",
      " |  __getattribute__(self, name, /)\n",
      " |      Return getattr(self, name).\n",
      " |  \n",
      " |  __getitem__(...)\n",
      " |      x.__getitem__(y) <==> x[y]\n",
      " |  \n",
      " |  __gt__(self, value, /)\n",
      " |      Return self>value.\n",
      " |  \n",
      " |  __iadd__(self, value, /)\n",
      " |      Implement self+=value.\n",
      " |  \n",
      " |  __imul__(self, value, /)\n",
      " |      Implement self*=value.\n",
      " |  \n",
      " |  __init__(self, /, *args, **kwargs)\n",
      " |      Initialize self.  See help(type(self)) for accurate signature.\n",
      " |  \n",
      " |  __iter__(self, /)\n",
      " |      Implement iter(self).\n",
      " |  \n",
      " |  __le__(self, value, /)\n",
      " |      Return self<=value.\n",
      " |  \n",
      " |  __len__(self, /)\n",
      " |      Return len(self).\n",
      " |  \n",
      " |  __lt__(self, value, /)\n",
      " |      Return self<value.\n",
      " |  \n",
      " |  __mul__(self, value, /)\n",
      " |      Return self*value.\n",
      " |  \n",
      " |  __ne__(self, value, /)\n",
      " |      Return self!=value.\n",
      " |  \n",
      " |  __repr__(self, /)\n",
      " |      Return repr(self).\n",
      " |  \n",
      " |  __reversed__(self, /)\n",
      " |      Return a reverse iterator over the list.\n",
      " |  \n",
      " |  __rmul__(self, value, /)\n",
      " |      Return value*self.\n",
      " |  \n",
      " |  __setitem__(self, key, value, /)\n",
      " |      Set self[key] to value.\n",
      " |  \n",
      " |  __sizeof__(self, /)\n",
      " |      Return the size of the list in memory, in bytes.\n",
      " |  \n",
      " |  append(self, object, /)\n",
      " |      Append object to the end of the list.\n",
      " |  \n",
      " |  clear(self, /)\n",
      " |      Remove all items from list.\n",
      " |  \n",
      " |  copy(self, /)\n",
      " |      Return a shallow copy of the list.\n",
      " |  \n",
      " |  count(self, value, /)\n",
      " |      Return number of occurrences of value.\n",
      " |  \n",
      " |  extend(self, iterable, /)\n",
      " |      Extend list by appending elements from the iterable.\n",
      " |  \n",
      " |  index(self, value, start=0, stop=9223372036854775807, /)\n",
      " |      Return first index of value.\n",
      " |      \n",
      " |      Raises ValueError if the value is not present.\n",
      " |  \n",
      " |  insert(self, index, object, /)\n",
      " |      Insert object before index.\n",
      " |  \n",
      " |  pop(self, index=-1, /)\n",
      " |      Remove and return item at index (default last).\n",
      " |      \n",
      " |      Raises IndexError if list is empty or index is out of range.\n",
      " |  \n",
      " |  remove(self, value, /)\n",
      " |      Remove first occurrence of value.\n",
      " |      \n",
      " |      Raises ValueError if the value is not present.\n",
      " |  \n",
      " |  reverse(self, /)\n",
      " |      Reverse *IN PLACE*.\n",
      " |  \n",
      " |  sort(self, /, *, key=None, reverse=False)\n",
      " |      Sort the list in ascending order and return None.\n",
      " |      \n",
      " |      The sort is in-place (i.e. the list itself is modified) and stable (i.e. the\n",
      " |      order of two equal elements is maintained).\n",
      " |      \n",
      " |      If a key function is given, apply it once to each list item and sort them,\n",
      " |      ascending or descending, according to their function values.\n",
      " |      \n",
      " |      The reverse flag can be set to sort in descending order.\n",
      " |  \n",
      " |  ----------------------------------------------------------------------\n",
      " |  Class methods defined here:\n",
      " |  \n",
      " |  __class_getitem__(...) from builtins.type\n",
      " |      See PEP 585\n",
      " |  \n",
      " |  ----------------------------------------------------------------------\n",
      " |  Static methods defined here:\n",
      " |  \n",
      " |  __new__(*args, **kwargs) from builtins.type\n",
      " |      Create and return a new object.  See help(type) for accurate signature.\n",
      " |  \n",
      " |  ----------------------------------------------------------------------\n",
      " |  Data and other attributes defined here:\n",
      " |  \n",
      " |  __hash__ = None\n",
      "\n"
     ]
    }
   ],
   "source": [
    "# get documentation of a list variable\n",
    "help(student_marks)"
   ]
  },
  {
   "cell_type": "code",
   "execution_count": 12,
   "id": "1f2b4122",
   "metadata": {},
   "outputs": [],
   "source": [
    "student_marks.extend([\"Chatterjee\",\"Shivraj\"])"
   ]
  },
  {
   "cell_type": "code",
   "execution_count": 13,
   "id": "3a3c3884",
   "metadata": {},
   "outputs": [
    {
     "data": {
      "text/plain": [
       "[18, 28, 90, 99, 45, 76, 87, 67, 'Chatterjee', 'Shivraj']"
      ]
     },
     "execution_count": 13,
     "metadata": {},
     "output_type": "execute_result"
    }
   ],
   "source": [
    "student_marks"
   ]
  },
  {
   "cell_type": "code",
   "execution_count": 22,
   "id": "cdf3891e",
   "metadata": {},
   "outputs": [],
   "source": [
    "student_marks.insert(0,\"Chatterjee\")"
   ]
  },
  {
   "cell_type": "code",
   "execution_count": 24,
   "id": "48dcc3ba",
   "metadata": {},
   "outputs": [],
   "source": [
    "student_marks.insert(1,\"Shivraj\")"
   ]
  },
  {
   "cell_type": "code",
   "execution_count": 26,
   "id": "e4a0399e",
   "metadata": {},
   "outputs": [],
   "source": [
    "student_marks.insert(-1,\"Shivraj\")"
   ]
  },
  {
   "cell_type": "code",
   "execution_count": 27,
   "id": "2d7088fa",
   "metadata": {},
   "outputs": [
    {
     "data": {
      "text/plain": [
       "['Chatterjee', 'Shivraj', 18, 28, 90, 99, 45, 76, 'Shivraj', 87]"
      ]
     },
     "execution_count": 27,
     "metadata": {},
     "output_type": "execute_result"
    }
   ],
   "source": [
    "student_marks"
   ]
  },
  {
   "cell_type": "code",
   "execution_count": 14,
   "id": "42055369",
   "metadata": {},
   "outputs": [],
   "source": [
    "last_value = student_marks.pop()"
   ]
  },
  {
   "cell_type": "code",
   "execution_count": 15,
   "id": "d74ce16b",
   "metadata": {},
   "outputs": [
    {
     "name": "stdout",
     "output_type": "stream",
     "text": [
      "Shivraj\n",
      "[18, 28, 90, 99, 45, 76, 87, 67, 'Chatterjee']\n"
     ]
    }
   ],
   "source": [
    "print(last_value)\n",
    "print(student_marks)"
   ]
  },
  {
   "cell_type": "code",
   "execution_count": 17,
   "id": "d6c09d51",
   "metadata": {},
   "outputs": [],
   "source": [
    "last_value = student_marks.pop(-2)"
   ]
  },
  {
   "cell_type": "code",
   "execution_count": 18,
   "id": "226ce6e0",
   "metadata": {},
   "outputs": [
    {
     "name": "stdout",
     "output_type": "stream",
     "text": [
      "67\n",
      "[18, 28, 90, 99, 45, 76, 87, 'Chatterjee']\n"
     ]
    }
   ],
   "source": [
    "print(last_value)\n",
    "print(student_marks)"
   ]
  },
  {
   "cell_type": "code",
   "execution_count": 28,
   "id": "fe99bd74",
   "metadata": {},
   "outputs": [
    {
     "data": {
      "text/plain": [
       "['Chatterjee', 'Shivraj', 18, 28, 90, 99, 45, 76, 'Shivraj', 87]"
      ]
     },
     "execution_count": 28,
     "metadata": {},
     "output_type": "execute_result"
    }
   ],
   "source": [
    "student_marks"
   ]
  },
  {
   "cell_type": "code",
   "execution_count": 29,
   "id": "7b8a805d",
   "metadata": {},
   "outputs": [],
   "source": [
    "# student_marks.pop(-3)\n",
    "student_marks.remove(76)        # if we don't know the index then we can remove directly by the element"
   ]
  },
  {
   "cell_type": "code",
   "execution_count": 30,
   "id": "139966a5",
   "metadata": {},
   "outputs": [
    {
     "name": "stdout",
     "output_type": "stream",
     "text": [
      "['Chatterjee', 'Shivraj', 18, 28, 90, 99, 45, 'Shivraj', 87]\n"
     ]
    }
   ],
   "source": [
    "print(student_marks)"
   ]
  },
  {
   "cell_type": "code",
   "execution_count": 31,
   "id": "23e4aa38",
   "metadata": {},
   "outputs": [],
   "source": [
    "student_marks.remove('Shivraj')"
   ]
  },
  {
   "cell_type": "code",
   "execution_count": 32,
   "id": "33a94306",
   "metadata": {},
   "outputs": [
    {
     "name": "stdout",
     "output_type": "stream",
     "text": [
      "['Chatterjee', 18, 28, 90, 99, 45, 'Shivraj', 87]\n"
     ]
    }
   ],
   "source": [
    "print(student_marks)"
   ]
  },
  {
   "cell_type": "markdown",
   "id": "e0310f8d",
   "metadata": {},
   "source": [
    "## List methods/functions\n",
    "\n",
    "- append : add a single element to the (end of the list)\n",
    "- extend : add multiple elements to the (end of the list)\n",
    "- insert : insert any element at a (given index)\n",
    "- pop: remove a single element from the list( by index)--enter indexing position in pop fun\n",
    "- remove: removes a single element (by the element) --direct  element enter which we have to remove \n",
    "- count: get the count of occurrence of a (particular element)\n",
    "- len() use to count elements in list\n",
    "- clear: it used to remove all elements from list\n",
    "- sort: it is used to arrange in ascending **student_marks.sort()** or descending order **student_marks.sort(reverse=True)**"
   ]
  },
  {
   "cell_type": "code",
   "execution_count": 33,
   "id": "d85f8198",
   "metadata": {},
   "outputs": [],
   "source": [
    "st = [1,10,30]"
   ]
  },
  {
   "cell_type": "code",
   "execution_count": 34,
   "id": "add00faa",
   "metadata": {},
   "outputs": [],
   "source": [
    "st.append(\"Shivraj\")"
   ]
  },
  {
   "cell_type": "code",
   "execution_count": 39,
   "id": "3ac85d19",
   "metadata": {},
   "outputs": [],
   "source": [
    "student_marks.append(\"Shivraj\")"
   ]
  },
  {
   "cell_type": "code",
   "execution_count": 40,
   "id": "d86df6d6",
   "metadata": {},
   "outputs": [
    {
     "data": {
      "text/plain": [
       "['Chatterjee', 18, 28, 90, 99, 45, 'Shivraj', 87, 'Shivraj']"
      ]
     },
     "execution_count": 40,
     "metadata": {},
     "output_type": "execute_result"
    }
   ],
   "source": [
    "student_marks"
   ]
  },
  {
   "cell_type": "code",
   "execution_count": 47,
   "id": "b19a2d34",
   "metadata": {},
   "outputs": [
    {
     "data": {
      "text/plain": [
       "1"
      ]
     },
     "execution_count": 47,
     "metadata": {},
     "output_type": "execute_result"
    }
   ],
   "source": [
    "student_marks.count(\"Chatterjee\")"
   ]
  },
  {
   "cell_type": "code",
   "execution_count": 34,
   "id": "b5c2b269",
   "metadata": {},
   "outputs": [
    {
     "data": {
      "text/plain": [
       "9"
      ]
     },
     "execution_count": 34,
     "metadata": {},
     "output_type": "execute_result"
    }
   ],
   "source": [
    "len(student_marks)"
   ]
  },
  {
   "cell_type": "code",
   "execution_count": 11,
   "id": "9063243f",
   "metadata": {},
   "outputs": [
    {
     "name": "stdout",
     "output_type": "stream",
     "text": [
      "[]\n"
     ]
    }
   ],
   "source": [
    "student_marks = ['Chatterjee', 18, 28, 90, 99, 45, 'Shivraj', 87, 'Shivraj']\n",
    "student_marks.clear()\n",
    "print(student_marks)"
   ]
  },
  {
   "cell_type": "code",
   "execution_count": 43,
   "id": "594e8bec",
   "metadata": {},
   "outputs": [],
   "source": [
    "student_marks.clear()"
   ]
  },
  {
   "cell_type": "code",
   "execution_count": 48,
   "id": "aa2c10fe",
   "metadata": {},
   "outputs": [],
   "source": [
    "student_marks = [19,90,31,34,65,33,32]"
   ]
  },
  {
   "cell_type": "code",
   "execution_count": null,
   "id": "cce97b44",
   "metadata": {},
   "outputs": [],
   "source": [
    "# ascending order\n",
    "student_marks.sort()"
   ]
  },
  {
   "cell_type": "code",
   "execution_count": 52,
   "id": "df348ac4",
   "metadata": {
    "scrolled": true
   },
   "outputs": [],
   "source": [
    "# descending -> largest to smallest\n",
    "student_marks.sort(reverse=True)"
   ]
  },
  {
   "cell_type": "code",
   "execution_count": 55,
   "id": "2b979843",
   "metadata": {},
   "outputs": [
    {
     "data": {
      "text/plain": [
       "[90, 65, 34, 33, 32, 31, 19]"
      ]
     },
     "execution_count": 55,
     "metadata": {},
     "output_type": "execute_result"
    }
   ],
   "source": [
    "student_marks"
   ]
  },
  {
   "cell_type": "code",
   "execution_count": null,
   "id": "0bdc958a",
   "metadata": {},
   "outputs": [],
   "source": []
  },
  {
   "cell_type": "code",
   "execution_count": null,
   "id": "b46aa989",
   "metadata": {},
   "outputs": [],
   "source": []
  },
  {
   "cell_type": "code",
   "execution_count": 1,
   "id": "acb1e504",
   "metadata": {},
   "outputs": [
    {
     "data": {
      "text/plain": [
       "['W', 'e', 'l', 'c', 'o', 'm', 'e']"
      ]
     },
     "execution_count": 1,
     "metadata": {},
     "output_type": "execute_result"
    }
   ],
   "source": [
    "list(\"Welcome\")        #it's type conversion from string to list"
   ]
  },
  {
   "cell_type": "code",
   "execution_count": 2,
   "id": "44fcf652",
   "metadata": {},
   "outputs": [
    {
     "name": "stdout",
     "output_type": "stream",
     "text": [
      "Help on list object:\n",
      "\n",
      "class list(object)\n",
      " |  list(iterable=(), /)\n",
      " |  \n",
      " |  Built-in mutable sequence.\n",
      " |  \n",
      " |  If no argument is given, the constructor creates a new empty list.\n",
      " |  The argument must be an iterable if specified.\n",
      " |  \n",
      " |  Methods defined here:\n",
      " |  \n",
      " |  __add__(self, value, /)\n",
      " |      Return self+value.\n",
      " |  \n",
      " |  __contains__(self, key, /)\n",
      " |      Return key in self.\n",
      " |  \n",
      " |  __delitem__(self, key, /)\n",
      " |      Delete self[key].\n",
      " |  \n",
      " |  __eq__(self, value, /)\n",
      " |      Return self==value.\n",
      " |  \n",
      " |  __ge__(self, value, /)\n",
      " |      Return self>=value.\n",
      " |  \n",
      " |  __getattribute__(self, name, /)\n",
      " |      Return getattr(self, name).\n",
      " |  \n",
      " |  __getitem__(...)\n",
      " |      x.__getitem__(y) <==> x[y]\n",
      " |  \n",
      " |  __gt__(self, value, /)\n",
      " |      Return self>value.\n",
      " |  \n",
      " |  __iadd__(self, value, /)\n",
      " |      Implement self+=value.\n",
      " |  \n",
      " |  __imul__(self, value, /)\n",
      " |      Implement self*=value.\n",
      " |  \n",
      " |  __init__(self, /, *args, **kwargs)\n",
      " |      Initialize self.  See help(type(self)) for accurate signature.\n",
      " |  \n",
      " |  __iter__(self, /)\n",
      " |      Implement iter(self).\n",
      " |  \n",
      " |  __le__(self, value, /)\n",
      " |      Return self<=value.\n",
      " |  \n",
      " |  __len__(self, /)\n",
      " |      Return len(self).\n",
      " |  \n",
      " |  __lt__(self, value, /)\n",
      " |      Return self<value.\n",
      " |  \n",
      " |  __mul__(self, value, /)\n",
      " |      Return self*value.\n",
      " |  \n",
      " |  __ne__(self, value, /)\n",
      " |      Return self!=value.\n",
      " |  \n",
      " |  __repr__(self, /)\n",
      " |      Return repr(self).\n",
      " |  \n",
      " |  __reversed__(self, /)\n",
      " |      Return a reverse iterator over the list.\n",
      " |  \n",
      " |  __rmul__(self, value, /)\n",
      " |      Return value*self.\n",
      " |  \n",
      " |  __setitem__(self, key, value, /)\n",
      " |      Set self[key] to value.\n",
      " |  \n",
      " |  __sizeof__(self, /)\n",
      " |      Return the size of the list in memory, in bytes.\n",
      " |  \n",
      " |  append(self, object, /)\n",
      " |      Append object to the end of the list.\n",
      " |  \n",
      " |  clear(self, /)\n",
      " |      Remove all items from list.\n",
      " |  \n",
      " |  copy(self, /)\n",
      " |      Return a shallow copy of the list.\n",
      " |  \n",
      " |  count(self, value, /)\n",
      " |      Return number of occurrences of value.\n",
      " |  \n",
      " |  extend(self, iterable, /)\n",
      " |      Extend list by appending elements from the iterable.\n",
      " |  \n",
      " |  index(self, value, start=0, stop=9223372036854775807, /)\n",
      " |      Return first index of value.\n",
      " |      \n",
      " |      Raises ValueError if the value is not present.\n",
      " |  \n",
      " |  insert(self, index, object, /)\n",
      " |      Insert object before index.\n",
      " |  \n",
      " |  pop(self, index=-1, /)\n",
      " |      Remove and return item at index (default last).\n",
      " |      \n",
      " |      Raises IndexError if list is empty or index is out of range.\n",
      " |  \n",
      " |  remove(self, value, /)\n",
      " |      Remove first occurrence of value.\n",
      " |      \n",
      " |      Raises ValueError if the value is not present.\n",
      " |  \n",
      " |  reverse(self, /)\n",
      " |      Reverse *IN PLACE*.\n",
      " |  \n",
      " |  sort(self, /, *, key=None, reverse=False)\n",
      " |      Sort the list in ascending order and return None.\n",
      " |      \n",
      " |      The sort is in-place (i.e. the list itself is modified) and stable (i.e. the\n",
      " |      order of two equal elements is maintained).\n",
      " |      \n",
      " |      If a key function is given, apply it once to each list item and sort them,\n",
      " |      ascending or descending, according to their function values.\n",
      " |      \n",
      " |      The reverse flag can be set to sort in descending order.\n",
      " |  \n",
      " |  ----------------------------------------------------------------------\n",
      " |  Class methods defined here:\n",
      " |  \n",
      " |  __class_getitem__(...) from builtins.type\n",
      " |      See PEP 585\n",
      " |  \n",
      " |  ----------------------------------------------------------------------\n",
      " |  Static methods defined here:\n",
      " |  \n",
      " |  __new__(*args, **kwargs) from builtins.type\n",
      " |      Create and return a new object.  See help(type) for accurate signature.\n",
      " |  \n",
      " |  ----------------------------------------------------------------------\n",
      " |  Data and other attributes defined here:\n",
      " |  \n",
      " |  __hash__ = None\n",
      "\n"
     ]
    }
   ],
   "source": [
    "help([])"
   ]
  },
  {
   "cell_type": "code",
   "execution_count": 3,
   "id": "e1efcc0e",
   "metadata": {},
   "outputs": [
    {
     "name": "stdout",
     "output_type": "stream",
     "text": [
      "<class 'str'>\n"
     ]
    }
   ],
   "source": [
    "message = \"Welcome\"\n",
    "print(type(message))"
   ]
  },
  {
   "cell_type": "code",
   "execution_count": 4,
   "id": "62816064",
   "metadata": {},
   "outputs": [
    {
     "name": "stdout",
     "output_type": "stream",
     "text": [
      "['W', 'e', 'l', 'c', 'o', 'm', 'e']\n",
      "type of message_list =  <class 'list'>\n"
     ]
    }
   ],
   "source": [
    "message_list = list(message)\n",
    "print(message_list)             #changed message into list\n",
    "print(\"type of message_list = \",type(message_list))"
   ]
  },
  {
   "cell_type": "markdown",
   "id": "d71e988d",
   "metadata": {},
   "source": [
    "## Type Conversion\n",
    "- changing of data type of variable from one to another is know type conversion\n",
    "- num=int(32.5)"
   ]
  },
  {
   "cell_type": "code",
   "execution_count": 13,
   "id": "f84b8b2a",
   "metadata": {},
   "outputs": [
    {
     "data": {
      "text/plain": [
       "float"
      ]
     },
     "execution_count": 13,
     "metadata": {},
     "output_type": "execute_result"
    }
   ],
   "source": [
    "type(32.5)"
   ]
  },
  {
   "cell_type": "code",
   "execution_count": 1,
   "id": "da8501b9",
   "metadata": {},
   "outputs": [
    {
     "name": "stdout",
     "output_type": "stream",
     "text": [
      "32\n",
      "<class 'int'>\n"
     ]
    }
   ],
   "source": [
    "num = int(32.5)\n",
    "print(num)\n",
    "print(type(num))"
   ]
  },
  {
   "cell_type": "markdown",
   "id": "aad04e74",
   "metadata": {},
   "source": [
    "## implicit type conversion"
   ]
  },
  {
   "cell_type": "code",
   "execution_count": 10,
   "id": "5d5c8b4e",
   "metadata": {},
   "outputs": [
    {
     "data": {
      "text/plain": [
       "62.5"
      ]
     },
     "execution_count": 10,
     "metadata": {},
     "output_type": "execute_result"
    }
   ],
   "source": [
    "32.5+30     # before addition 30 converts into 30.0 and then addition happens"
   ]
  },
  {
   "cell_type": "markdown",
   "id": "04541bb3",
   "metadata": {},
   "source": [
    "## explicit type conversion "
   ]
  },
  {
   "cell_type": "code",
   "execution_count": 12,
   "id": "8471358b",
   "metadata": {},
   "outputs": [
    {
     "data": {
      "text/plain": [
       "64"
      ]
     },
     "execution_count": 12,
     "metadata": {},
     "output_type": "execute_result"
    }
   ],
   "source": [
    "# '32' + 32   not happen string and int addition not happen\n",
    "int('32')+32  # convert '32' str to int"
   ]
  },
  {
   "cell_type": "markdown",
   "id": "7eb293f9",
   "metadata": {},
   "source": [
    "#  3) Strings"
   ]
  },
  {
   "cell_type": "markdown",
   "id": "28e2a24e",
   "metadata": {},
   "source": [
    "#### any combination of alphabets, number and special characters that are stored ** within quotation ** marks is known as string\n"
   ]
  },
  {
   "cell_type": "markdown",
   "id": "6dcc39df",
   "metadata": {},
   "source": [
    "## Properties of string data type\n",
    "\n",
    "- immutable data type"
   ]
  },
  {
   "cell_type": "code",
   "execution_count": 14,
   "id": "880ed4c9",
   "metadata": {},
   "outputs": [
    {
     "name": "stdout",
     "output_type": "stream",
     "text": [
      "<class 'str'>\n"
     ]
    }
   ],
   "source": [
    "example_1 = \"Ribin Pary\"\n",
    "print(type(example_1))"
   ]
  },
  {
   "cell_type": "code",
   "execution_count": 15,
   "id": "1d7ddeeb",
   "metadata": {},
   "outputs": [
    {
     "name": "stdout",
     "output_type": "stream",
     "text": [
      "<class 'str'>\n"
     ]
    }
   ],
   "source": [
    "example_2 = 'Ribin Pary got 21 marks in last quiz'\n",
    "print(type(example_2))"
   ]
  },
  {
   "cell_type": "code",
   "execution_count": 16,
   "id": "04ae2b4e",
   "metadata": {},
   "outputs": [
    {
     "name": "stdout",
     "output_type": "stream",
     "text": [
      "<class 'str'>\n"
     ]
    }
   ],
   "source": [
    "example_3 = \"21\"\n",
    "print(type(example_3))"
   ]
  },
  {
   "cell_type": "code",
   "execution_count": 17,
   "id": "316628f8",
   "metadata": {},
   "outputs": [],
   "source": [
    "example_4 = \"\"\"Ribin Pary got 21 marks in last quiz.\n",
    "He has been improving quite a lot in python.\n",
    "Its good to see the improvement\n",
    "\"\"\""
   ]
  },
  {
   "cell_type": "code",
   "execution_count": 18,
   "id": "d8c6288b",
   "metadata": {},
   "outputs": [
    {
     "name": "stdout",
     "output_type": "stream",
     "text": [
      "<class 'str'>\n"
     ]
    }
   ],
   "source": [
    "print(type(example_4))"
   ]
  },
  {
   "cell_type": "code",
   "execution_count": 19,
   "id": "c25d5c39",
   "metadata": {},
   "outputs": [
    {
     "name": "stdout",
     "output_type": "stream",
     "text": [
      "Ribin Pary got 21 marks in last quiz.\n",
      "He has been improving quite a lot in python.\n",
      "Its good to see the improvement\n",
      "\n"
     ]
    }
   ],
   "source": [
    "print(example_4)"
   ]
  },
  {
   "cell_type": "code",
   "execution_count": 20,
   "id": "0054140d",
   "metadata": {},
   "outputs": [],
   "source": [
    "example_5 = '''\n",
    "            Hi how are you?\n",
    "            I have been studying python since last week.\n",
    "            Its an interseting programming language\n",
    "            '''"
   ]
  },
  {
   "cell_type": "code",
   "execution_count": 21,
   "id": "f97b0507",
   "metadata": {},
   "outputs": [
    {
     "name": "stdout",
     "output_type": "stream",
     "text": [
      "<class 'str'>\n"
     ]
    }
   ],
   "source": [
    "print(type(example_5))"
   ]
  },
  {
   "cell_type": "code",
   "execution_count": 22,
   "id": "e502dcca",
   "metadata": {},
   "outputs": [
    {
     "name": "stdout",
     "output_type": "stream",
     "text": [
      "\n",
      "            Hi how are you?\n",
      "            I have been studying python since last week.\n",
      "            Its an interseting programming language\n",
      "            \n"
     ]
    }
   ],
   "source": [
    "print(example_5)"
   ]
  },
  {
   "cell_type": "code",
   "execution_count": 3,
   "id": "03544048",
   "metadata": {},
   "outputs": [],
   "source": [
    "example_6 = \"HI how are you I am good\""
   ]
  },
  {
   "cell_type": "code",
   "execution_count": 2,
   "id": "185a334e",
   "metadata": {},
   "outputs": [
    {
     "data": {
      "text/plain": [
       "'C'"
      ]
     },
     "execution_count": 2,
     "metadata": {},
     "output_type": "execute_result"
    }
   ],
   "source": [
    "name = \"CV Veerappan\"      # indexing is possible in string\n",
    "name[0]"
   ]
  },
  {
   "cell_type": "code",
   "execution_count": 13,
   "id": "f8bb89fa",
   "metadata": {},
   "outputs": [
    {
     "ename": "TypeError",
     "evalue": "'str' object does not support item assignment",
     "output_type": "error",
     "traceback": [
      "\u001b[1;31m---------------------------------------------------------------------------\u001b[0m",
      "\u001b[1;31mTypeError\u001b[0m                                 Traceback (most recent call last)",
      "Cell \u001b[1;32mIn[13], line 2\u001b[0m\n\u001b[0;32m      1\u001b[0m name \u001b[38;5;241m=\u001b[39m \u001b[38;5;124m\"\u001b[39m\u001b[38;5;124mCV Veerappan\u001b[39m\u001b[38;5;124m\"\u001b[39m\n\u001b[1;32m----> 2\u001b[0m name[\u001b[38;5;241m0\u001b[39m]\u001b[38;5;241m=\u001b[39m\u001b[38;5;124m'\u001b[39m\u001b[38;5;124mP\u001b[39m\u001b[38;5;124m'\u001b[39m\n\u001b[0;32m      3\u001b[0m \u001b[38;5;28mprint\u001b[39m(name)\n",
      "\u001b[1;31mTypeError\u001b[0m: 'str' object does not support item assignment"
     ]
    }
   ],
   "source": [
    "name = \"CV Veerappan\"    # item assignment is not supported\n",
    "name[0]='P'\n",
    "print(name)"
   ]
  },
  {
   "cell_type": "code",
   "execution_count": 27,
   "id": "1490bf9a",
   "metadata": {},
   "outputs": [
    {
     "name": "stdout",
     "output_type": "stream",
     "text": [
      "[10, 2, 3, 4]\n"
     ]
    }
   ],
   "source": [
    "num = [1,2,3,4]\n",
    "num[0] = 10\n",
    "print(num)"
   ]
  },
  {
   "cell_type": "code",
   "execution_count": 5,
   "id": "025ae274",
   "metadata": {},
   "outputs": [
    {
     "name": "stdout",
     "output_type": "stream",
     "text": [
      "127704562224\n",
      "127735908016\n"
     ]
    }
   ],
   "source": [
    "name = \"shivam\"      #variable is like  pointer only..it is pointing to data where it is located in memory\n",
    "print(id(name))\n",
    "name = \"sham\"\n",
    "print(id(name))"
   ]
  },
  {
   "cell_type": "code",
   "execution_count": 7,
   "id": "7bed8ed3",
   "metadata": {},
   "outputs": [
    {
     "name": "stdout",
     "output_type": "stream",
     "text": [
      "127624760048\n",
      "127624760048\n"
     ]
    }
   ],
   "source": [
    "shivam = \"name\"\n",
    "print(id(shivam))\n",
    "sham = \"name\"\n",
    "print(id(sham))"
   ]
  },
  {
   "cell_type": "code",
   "execution_count": 30,
   "id": "c6928275",
   "metadata": {},
   "outputs": [
    {
     "name": "stdout",
     "output_type": "stream",
     "text": [
      "Help on built-in function id in module builtins:\n",
      "\n",
      "id(obj, /)\n",
      "    Return the identity of an object.\n",
      "    \n",
      "    This is guaranteed to be unique among simultaneously existing objects.\n",
      "    (CPython uses the object's memory address.)\n",
      "\n"
     ]
    }
   ],
   "source": [
    "help(id)"
   ]
  },
  {
   "cell_type": "code",
   "execution_count": 31,
   "id": "ef6fac19",
   "metadata": {},
   "outputs": [
    {
     "data": {
      "text/plain": [
       "3028446477760"
      ]
     },
     "execution_count": 31,
     "metadata": {},
     "output_type": "execute_result"
    }
   ],
   "source": [
    "id(num)"
   ]
  },
  {
   "cell_type": "code",
   "execution_count": 32,
   "id": "a53be3f6",
   "metadata": {},
   "outputs": [
    {
     "name": "stdout",
     "output_type": "stream",
     "text": [
      "before change:  3028446536240\n",
      "after change:  3028428969584\n"
     ]
    }
   ],
   "source": [
    "name = \"shivam\"\n",
    "print(\"before change: \",id(name))\n",
    "name = \"sam\"\n",
    "print(\"after change: \",id(name))"
   ]
  },
  {
   "cell_type": "code",
   "execution_count": 33,
   "id": "79ef0f56",
   "metadata": {},
   "outputs": [
    {
     "data": {
      "text/plain": [
       "'sam'"
      ]
     },
     "execution_count": 33,
     "metadata": {},
     "output_type": "execute_result"
    }
   ],
   "source": [
    "name          # only variable change (get illusion of change)but memory address not change they create 2 address"
   ]
  },
  {
   "cell_type": "code",
   "execution_count": null,
   "id": "ef31f301",
   "metadata": {},
   "outputs": [],
   "source": [
    "\"name\""
   ]
  },
  {
   "cell_type": "code",
   "execution_count": 35,
   "id": "0f0bd3bb",
   "metadata": {},
   "outputs": [
    {
     "name": "stdout",
     "output_type": "stream",
     "text": [
      "3028319928848\n",
      "3028319929168\n"
     ]
    }
   ],
   "source": [
    "num1 = 10         \n",
    "print(id(num1))\n",
    "num1 = 20\n",
    "print(id(num1))"
   ]
  },
  {
   "cell_type": "code",
   "execution_count": 1,
   "id": "daae107e",
   "metadata": {},
   "outputs": [
    {
     "name": "stdout",
     "output_type": "stream",
     "text": [
      "834162524688\n",
      "834162524688\n"
     ]
    }
   ],
   "source": [
    "num1 = 10\n",
    "print(id(num1))\n",
    "num2 = 10\n",
    "print(id(num2))  # different variable but same data denote same memory address..because python reduce memory usage"
   ]
  },
  {
   "cell_type": "code",
   "execution_count": 39,
   "id": "c6a03a78",
   "metadata": {},
   "outputs": [
    {
     "name": "stdout",
     "output_type": "stream",
     "text": [
      "3028446572928\n",
      "[10, 2, 3, 4]\n",
      "3028446572928\n"
     ]
    }
   ],
   "source": [
    "num = [1,2,3,4]\n",
    "print(id(num))\n",
    "num[0] = 10\n",
    "print(num)\n",
    "print(id(num))"
   ]
  },
  {
   "cell_type": "code",
   "execution_count": 40,
   "id": "ad4e4fa6",
   "metadata": {},
   "outputs": [
    {
     "name": "stdout",
     "output_type": "stream",
     "text": [
      "before append id =  3028446572928\n",
      "after append id =  3028446572928\n"
     ]
    }
   ],
   "source": [
    "print(\"before append id = \",id(num))    # list id same even after change\n",
    "num.append(10)\n",
    "print(\"after append id = \",id(num))"
   ]
  },
  {
   "cell_type": "code",
   "execution_count": 41,
   "id": "85924961",
   "metadata": {},
   "outputs": [
    {
     "data": {
      "text/plain": [
       "[10, 2, 3, 4, 10]"
      ]
     },
     "execution_count": 41,
     "metadata": {},
     "output_type": "execute_result"
    }
   ],
   "source": [
    "num"
   ]
  },
  {
   "cell_type": "code",
   "execution_count": 42,
   "id": "28fe465d",
   "metadata": {},
   "outputs": [
    {
     "name": "stdout",
     "output_type": "stream",
     "text": [
      "memory address of num1 =  3028319928848\n",
      "memory address of num2 =  3028319928848\n"
     ]
    }
   ],
   "source": [
    "num1=10\n",
    "num2=10 \n",
    "print(\"memory address of num1 = \",id(num1))\n",
    "print(\"memory address of num2 = \",id(num2))"
   ]
  },
  {
   "cell_type": "markdown",
   "id": "e9f8ee11",
   "metadata": {},
   "source": [
    "## Certain methods on String"
   ]
  },
  {
   "cell_type": "code",
   "execution_count": 43,
   "id": "7ceede15",
   "metadata": {},
   "outputs": [],
   "source": [
    "name = \"Shubham Chatterjee\""
   ]
  },
  {
   "cell_type": "code",
   "execution_count": 3,
   "id": "565f1ba8",
   "metadata": {},
   "outputs": [
    {
     "data": {
      "text/plain": [
       "'Shubham C'"
      ]
     },
     "execution_count": 3,
     "metadata": {},
     "output_type": "execute_result"
    }
   ],
   "source": [
    "name = \"Shubham Chatterjee\"    # space also occupying index\n",
    "name[0:9]"
   ]
  },
  {
   "cell_type": "code",
   "execution_count": 46,
   "id": "e95c49d5",
   "metadata": {},
   "outputs": [
    {
     "data": {
      "text/plain": [
       "'shubham chatterjee'"
      ]
     },
     "execution_count": 46,
     "metadata": {},
     "output_type": "execute_result"
    }
   ],
   "source": [
    "# lowercase our string\n",
    "name.lower()"
   ]
  },
  {
   "cell_type": "code",
   "execution_count": 49,
   "id": "55320e5c",
   "metadata": {},
   "outputs": [
    {
     "data": {
      "text/plain": [
       "'SHUBHAM CHATTERJEE'"
      ]
     },
     "execution_count": 49,
     "metadata": {},
     "output_type": "execute_result"
    }
   ],
   "source": [
    "# uppercase our string\n",
    "name.upper()"
   ]
  },
  {
   "cell_type": "code",
   "execution_count": 50,
   "id": "a32a5bfa",
   "metadata": {},
   "outputs": [
    {
     "data": {
      "text/plain": [
       "'Shubham Chatterjee'"
      ]
     },
     "execution_count": 50,
     "metadata": {},
     "output_type": "execute_result"
    }
   ],
   "source": [
    "name"
   ]
  },
  {
   "cell_type": "code",
   "execution_count": 1,
   "id": "91656ebf",
   "metadata": {},
   "outputs": [
    {
     "data": {
      "text/plain": [
       "'eejrettahC mahbuhS'"
      ]
     },
     "execution_count": 1,
     "metadata": {},
     "output_type": "execute_result"
    }
   ],
   "source": [
    "# reverse the string\n",
    "name = \"Shubham Chatterjee\"\n",
    "name[::-1]                           # slicing sytext start_part : end_part : step_size"
   ]
  },
  {
   "cell_type": "code",
   "execution_count": 52,
   "id": "2bbfe66b",
   "metadata": {},
   "outputs": [
    {
     "data": {
      "text/plain": [
       "['Shubham', 'Chatterjee']"
      ]
     },
     "execution_count": 52,
     "metadata": {},
     "output_type": "execute_result"
    }
   ],
   "source": [
    "name.split()     #by default split base on spaces   # split into list"
   ]
  },
  {
   "cell_type": "code",
   "execution_count": 53,
   "id": "946c0c31",
   "metadata": {},
   "outputs": [
    {
     "data": {
      "text/plain": [
       "'Shubham Chatterjee'"
      ]
     },
     "execution_count": 53,
     "metadata": {},
     "output_type": "execute_result"
    }
   ],
   "source": [
    "name"
   ]
  },
  {
   "cell_type": "code",
   "execution_count": 55,
   "id": "ef8b61d7",
   "metadata": {},
   "outputs": [
    {
     "name": "stdout",
     "output_type": "stream",
     "text": [
      "['Hi', 'my', 'name', 'is', 'Shivam.', 'I', 'am', 'attending', 'Python', 'class', 'today']\n"
     ]
    }
   ],
   "source": [
    "sen1 = \"Hi my name is Shivam. I am attending Python class today\"    # split string into list(o/p always be in list)\n",
    "print(sen1.split())"
   ]
  },
  {
   "cell_type": "code",
   "execution_count": 62,
   "id": "59a96ce0",
   "metadata": {},
   "outputs": [
    {
     "data": {
      "text/plain": [
       "['Hi', 'my', 'name', 'is', 'Shivam']"
      ]
     },
     "execution_count": 62,
     "metadata": {},
     "output_type": "execute_result"
    }
   ],
   "source": [
    "sen2 = \"Hi+my+name+is+Shivam\"    # + assign as a seperator\n",
    "sen2.split(\"+\")"
   ]
  },
  {
   "cell_type": "code",
   "execution_count": 61,
   "id": "3d71643d",
   "metadata": {},
   "outputs": [
    {
     "data": {
      "text/plain": [
       "['Hi,my,name,is,Shivam']"
      ]
     },
     "execution_count": 61,
     "metadata": {},
     "output_type": "execute_result"
    }
   ],
   "source": [
    "sen2.split()"
   ]
  },
  {
   "cell_type": "code",
   "execution_count": 60,
   "id": "4c54e7e6",
   "metadata": {},
   "outputs": [
    {
     "data": {
      "text/plain": [
       "['name', 'is', 'Shivam']"
      ]
     },
     "execution_count": 60,
     "metadata": {},
     "output_type": "execute_result"
    }
   ],
   "source": [
    "sen2[6:].split(',')    # use combine slice operation and given slit operation"
   ]
  },
  {
   "cell_type": "markdown",
   "id": "14e2c192",
   "metadata": {},
   "source": [
    "zeba madam's session\n",
    "\n",
    "- primitive data type -int float string boolean none\n",
    "- non-primitive -list dict set tuple \n",
    "\n",
    "- primitive datatyp -------int,float,str,boolean,none(use in other languages also)\n",
    "- non-primitive datatype --- list,set,dictionary,tuple(only use in python)\n",
    "\n",
    "- mutable datatype --- list , dictionary , \n",
    "- immutable datatype --- int, float, str, tuple, boolean, none\n",
    "\n",
    "- values- values are mutanle\n",
    "\n",
    "- dictionary -- mutable\n",
    "- keys inside the dictionary are--> immutable\n",
    "\n",
    "\n",
    "- set --> mutable\n",
    "- element in set are---> immutable\n",
    "\n",
    "- element - just a value inside list,tuple,set\n",
    "\n",
    "- list  --  we can increase the list after it define (dynamic)\n",
    "- array --  we can not increase the array after it define (static)\n"
   ]
  },
  {
   "cell_type": "code",
   "execution_count": null,
   "id": "2d0f42fe",
   "metadata": {},
   "outputs": [],
   "source": []
  },
  {
   "cell_type": "code",
   "execution_count": null,
   "id": "25799461",
   "metadata": {},
   "outputs": [],
   "source": []
  },
  {
   "cell_type": "code",
   "execution_count": null,
   "id": "8f7aca59",
   "metadata": {},
   "outputs": [],
   "source": []
  },
  {
   "cell_type": "markdown",
   "id": "0630fafb",
   "metadata": {},
   "source": [
    "# 4) Tuple"
   ]
  },
  {
   "cell_type": "code",
   "execution_count": 1,
   "id": "8a1ac648",
   "metadata": {},
   "outputs": [],
   "source": [
    "student_1 = \"Raj\"\n",
    "student_2 = \"Raman\"\n",
    "student_3 = \"Rohit\""
   ]
  },
  {
   "cell_type": "code",
   "execution_count": 21,
   "id": "116845f8",
   "metadata": {},
   "outputs": [],
   "source": [
    "students= []"
   ]
  },
  {
   "cell_type": "code",
   "execution_count": 2,
   "id": "117cdd65",
   "metadata": {},
   "outputs": [],
   "source": [
    "student_names = [\"Raj\",\"Raman\",\"Rohit\"]"
   ]
  },
  {
   "cell_type": "code",
   "execution_count": 3,
   "id": "5faef635",
   "metadata": {},
   "outputs": [],
   "source": [
    "student_names[0] = \"Manoj\""
   ]
  },
  {
   "cell_type": "code",
   "execution_count": 4,
   "id": "6fa07815",
   "metadata": {},
   "outputs": [
    {
     "data": {
      "text/plain": [
       "['Manoj', 'Raman', 'Rohit']"
      ]
     },
     "execution_count": 4,
     "metadata": {},
     "output_type": "execute_result"
    }
   ],
   "source": [
    "student_names"
   ]
  },
  {
   "cell_type": "code",
   "execution_count": 5,
   "id": "553ba873",
   "metadata": {},
   "outputs": [],
   "source": [
    "adhaar_nums = ['ANSDSDJ','KSJFFDFD','GDJGENF']"
   ]
  },
  {
   "cell_type": "code",
   "execution_count": 6,
   "id": "4421c2e7",
   "metadata": {},
   "outputs": [],
   "source": [
    "adhaar_nums[0] = 'BSDKORWSFJ'"
   ]
  },
  {
   "cell_type": "code",
   "execution_count": 7,
   "id": "f10340f5",
   "metadata": {},
   "outputs": [
    {
     "data": {
      "text/plain": [
       "['BSDKORWSFJ', 'KSJFFDFD', 'GDJGENF']"
      ]
     },
     "execution_count": 7,
     "metadata": {},
     "output_type": "execute_result"
    }
   ],
   "source": [
    "adhaar_nums"
   ]
  },
  {
   "cell_type": "code",
   "execution_count": 8,
   "id": "23de221f",
   "metadata": {},
   "outputs": [],
   "source": [
    "adhaar_tuple = ('ANSDSDJ','KSJFFDFD','GDJGENF')"
   ]
  },
  {
   "cell_type": "code",
   "execution_count": 9,
   "id": "a651dfe1",
   "metadata": {},
   "outputs": [
    {
     "name": "stdout",
     "output_type": "stream",
     "text": [
      "('ANSDSDJ', 'KSJFFDFD', 'GDJGENF')\n"
     ]
    }
   ],
   "source": [
    "print(adhaar_tuple)"
   ]
  },
  {
   "cell_type": "code",
   "execution_count": 10,
   "id": "8dda7697",
   "metadata": {},
   "outputs": [
    {
     "data": {
      "text/plain": [
       "'ANSDSDJ'"
      ]
     },
     "execution_count": 10,
     "metadata": {},
     "output_type": "execute_result"
    }
   ],
   "source": [
    "adhaar_tuple[0]          # tuple can access by indexing"
   ]
  },
  {
   "cell_type": "code",
   "execution_count": 11,
   "id": "6c5a6077",
   "metadata": {},
   "outputs": [
    {
     "ename": "TypeError",
     "evalue": "'tuple' object does not support item assignment",
     "output_type": "error",
     "traceback": [
      "\u001b[1;31m---------------------------------------------------------------------------\u001b[0m",
      "\u001b[1;31mTypeError\u001b[0m                                 Traceback (most recent call last)",
      "Cell \u001b[1;32mIn[11], line 1\u001b[0m\n\u001b[1;32m----> 1\u001b[0m adhaar_tuple[\u001b[38;5;241m0\u001b[39m] \u001b[38;5;241m=\u001b[39m \u001b[38;5;124m'\u001b[39m\u001b[38;5;124mBSDKORWSFJ\u001b[39m\u001b[38;5;124m'\u001b[39m\n",
      "\u001b[1;31mTypeError\u001b[0m: 'tuple' object does not support item assignment"
     ]
    }
   ],
   "source": [
    "adhaar_tuple[0] = 'BSDKORWSFJ'             # we can not change in tuple"
   ]
  },
  {
   "cell_type": "code",
   "execution_count": 12,
   "id": "09285059",
   "metadata": {},
   "outputs": [
    {
     "name": "stdout",
     "output_type": "stream",
     "text": [
      "('ANSDSDJ', 'KSJFFDFD', 'GDJGENF')\n"
     ]
    }
   ],
   "source": [
    "print(adhaar_tuple)"
   ]
  },
  {
   "cell_type": "markdown",
   "id": "255636b0",
   "metadata": {},
   "source": [
    "## Creation on an empty tuple"
   ]
  },
  {
   "cell_type": "code",
   "execution_count": 13,
   "id": "8643bb2b",
   "metadata": {},
   "outputs": [],
   "source": [
    "sample=()"
   ]
  },
  {
   "cell_type": "code",
   "execution_count": 14,
   "id": "bff3b014",
   "metadata": {},
   "outputs": [
    {
     "data": {
      "text/plain": [
       "tuple"
      ]
     },
     "execution_count": 14,
     "metadata": {},
     "output_type": "execute_result"
    }
   ],
   "source": [
    "type(sample)"
   ]
  },
  {
   "cell_type": "code",
   "execution_count": 20,
   "id": "8ccd6617",
   "metadata": {},
   "outputs": [
    {
     "data": {
      "text/plain": [
       "0"
      ]
     },
     "execution_count": 20,
     "metadata": {},
     "output_type": "execute_result"
    }
   ],
   "source": [
    "len(sample)"
   ]
  },
  {
   "cell_type": "markdown",
   "id": "ae89de02",
   "metadata": {},
   "source": [
    "# Creation of a tuple with only element"
   ]
  },
  {
   "cell_type": "code",
   "execution_count": 2,
   "id": "8c04b279",
   "metadata": {},
   "outputs": [
    {
     "data": {
      "text/plain": [
       "str"
      ]
     },
     "execution_count": 2,
     "metadata": {},
     "output_type": "execute_result"
    }
   ],
   "source": [
    "sample_2 = (\"Chatterjee\")\n",
    "type(sample_2)"
   ]
  },
  {
   "cell_type": "code",
   "execution_count": 4,
   "id": "da20da03",
   "metadata": {},
   "outputs": [],
   "source": [
    "sample_2 = (\"Chatterjee\",)"
   ]
  },
  {
   "cell_type": "code",
   "execution_count": 5,
   "id": "e2c4ce5e",
   "metadata": {},
   "outputs": [
    {
     "data": {
      "text/plain": [
       "tuple"
      ]
     },
     "execution_count": 5,
     "metadata": {},
     "output_type": "execute_result"
    }
   ],
   "source": [
    "type(sample_2)"
   ]
  },
  {
   "cell_type": "code",
   "execution_count": null,
   "id": "dd6143b3",
   "metadata": {},
   "outputs": [],
   "source": []
  },
  {
   "cell_type": "code",
   "execution_count": 47,
   "id": "8b9ba33f",
   "metadata": {},
   "outputs": [],
   "source": [
    "sample_3 = (1,2,3,[\"Shivam\",\"Raman\",\"Rajat\"])"
   ]
  },
  {
   "cell_type": "code",
   "execution_count": 23,
   "id": "dffa90ce",
   "metadata": {},
   "outputs": [
    {
     "name": "stdout",
     "output_type": "stream",
     "text": [
      "(1, 2, 3, ['Shivam', 'Raman', 'Rajat'])\n"
     ]
    }
   ],
   "source": [
    "print(sample_3)"
   ]
  },
  {
   "cell_type": "code",
   "execution_count": 26,
   "id": "655e1d54",
   "metadata": {},
   "outputs": [
    {
     "ename": "TypeError",
     "evalue": "'tuple' object does not support item assignment",
     "output_type": "error",
     "traceback": [
      "\u001b[1;31m---------------------------------------------------------------------------\u001b[0m",
      "\u001b[1;31mTypeError\u001b[0m                                 Traceback (most recent call last)",
      "Cell \u001b[1;32mIn[26], line 1\u001b[0m\n\u001b[1;32m----> 1\u001b[0m sample_3[\u001b[38;5;241m0\u001b[39m]\u001b[38;5;241m=\u001b[39m\u001b[38;5;241m10\u001b[39m\n",
      "\u001b[1;31mTypeError\u001b[0m: 'tuple' object does not support item assignment"
     ]
    }
   ],
   "source": [
    "sample_3[0]=10"
   ]
  },
  {
   "cell_type": "code",
   "execution_count": 48,
   "id": "ee3db644",
   "metadata": {},
   "outputs": [],
   "source": [
    "sample_3[3].append('Raman')"
   ]
  },
  {
   "cell_type": "code",
   "execution_count": 49,
   "id": "12980c4b",
   "metadata": {},
   "outputs": [
    {
     "data": {
      "text/plain": [
       "(1, 2, 3, ['Shivam', 'Raman', 'Rajat', 'Raman'])"
      ]
     },
     "execution_count": 49,
     "metadata": {},
     "output_type": "execute_result"
    }
   ],
   "source": [
    "sample_3"
   ]
  },
  {
   "cell_type": "code",
   "execution_count": 52,
   "id": "b06c8a8c",
   "metadata": {},
   "outputs": [
    {
     "data": {
      "text/plain": [
       "'Raman'"
      ]
     },
     "execution_count": 52,
     "metadata": {},
     "output_type": "execute_result"
    }
   ],
   "source": [
    "sample_3[3].pop(1)"
   ]
  },
  {
   "cell_type": "code",
   "execution_count": 53,
   "id": "6ec44b58",
   "metadata": {},
   "outputs": [
    {
     "data": {
      "text/plain": [
       "(1, 2, 3, ['Shivam', 'Rajat', 'Raman'])"
      ]
     },
     "execution_count": 53,
     "metadata": {},
     "output_type": "execute_result"
    }
   ],
   "source": [
    "sample_3"
   ]
  },
  {
   "cell_type": "code",
   "execution_count": 32,
   "id": "fc3d6ebc",
   "metadata": {},
   "outputs": [],
   "source": [
    "del sample_3   #entire delete is possible but changes are not...in tuple"
   ]
  },
  {
   "cell_type": "code",
   "execution_count": 33,
   "id": "eaa191b0",
   "metadata": {},
   "outputs": [
    {
     "ename": "NameError",
     "evalue": "name 'sample_3' is not defined",
     "output_type": "error",
     "traceback": [
      "\u001b[1;31m---------------------------------------------------------------------------\u001b[0m",
      "\u001b[1;31mNameError\u001b[0m                                 Traceback (most recent call last)",
      "Cell \u001b[1;32mIn[33], line 1\u001b[0m\n\u001b[1;32m----> 1\u001b[0m \u001b[43msample_3\u001b[49m\n",
      "\u001b[1;31mNameError\u001b[0m: name 'sample_3' is not defined"
     ]
    }
   ],
   "source": [
    "sample_3"
   ]
  },
  {
   "cell_type": "code",
   "execution_count": 38,
   "id": "006bb72a",
   "metadata": {},
   "outputs": [],
   "source": [
    "sample_4 = [\"Raman\",\"Raj\",(\"Rohit\",\"Malini\")]"
   ]
  },
  {
   "cell_type": "code",
   "execution_count": 36,
   "id": "3cf60adc",
   "metadata": {},
   "outputs": [],
   "source": [
    "sample_4[2]=\"Rajat\"                 # we can completely change the tuple "
   ]
  },
  {
   "cell_type": "code",
   "execution_count": 37,
   "id": "81783a5b",
   "metadata": {},
   "outputs": [
    {
     "data": {
      "text/plain": [
       "['Raman', 'Raj', 'Rajat']"
      ]
     },
     "execution_count": 37,
     "metadata": {},
     "output_type": "execute_result"
    }
   ],
   "source": [
    "sample_4                     "
   ]
  },
  {
   "cell_type": "code",
   "execution_count": 46,
   "id": "6da3a3be",
   "metadata": {},
   "outputs": [
    {
     "ename": "TypeError",
     "evalue": "'tuple' object does not support item assignment",
     "output_type": "error",
     "traceback": [
      "\u001b[1;31m---------------------------------------------------------------------------\u001b[0m",
      "\u001b[1;31mTypeError\u001b[0m                                 Traceback (most recent call last)",
      "Cell \u001b[1;32mIn[46], line 1\u001b[0m\n\u001b[1;32m----> 1\u001b[0m sample_4[\u001b[38;5;241m2\u001b[39m][\u001b[38;5;241m1\u001b[39m]\u001b[38;5;241m=\u001b[39m\u001b[38;5;124m\"\u001b[39m\u001b[38;5;124mAkshay\u001b[39m\u001b[38;5;124m\"\u001b[39m\n",
      "\u001b[1;31mTypeError\u001b[0m: 'tuple' object does not support item assignment"
     ]
    }
   ],
   "source": [
    "sample_4[2][1]=\"Akshay\"     #we are trying to change within tuple instead of malini"
   ]
  },
  {
   "cell_type": "code",
   "execution_count": 1,
   "id": "57d75a3d",
   "metadata": {},
   "outputs": [
    {
     "data": {
      "text/plain": [
       "'Malini'"
      ]
     },
     "execution_count": 1,
     "metadata": {},
     "output_type": "execute_result"
    }
   ],
   "source": [
    "sample_4 = [\"Raman\",\"Raj\",(\"Rohit\",\"Malini\")]\n",
    "sample_4[2][1]"
   ]
  },
  {
   "cell_type": "code",
   "execution_count": 54,
   "id": "1106bed4",
   "metadata": {
    "scrolled": true
   },
   "outputs": [
    {
     "name": "stdout",
     "output_type": "stream",
     "text": [
      "Help on class tuple in module builtins:\n",
      "\n",
      "class tuple(object)\n",
      " |  tuple(iterable=(), /)\n",
      " |  \n",
      " |  Built-in immutable sequence.\n",
      " |  \n",
      " |  If no argument is given, the constructor returns an empty tuple.\n",
      " |  If iterable is specified the tuple is initialized from iterable's items.\n",
      " |  \n",
      " |  If the argument is a tuple, the return value is the same object.\n",
      " |  \n",
      " |  Built-in subclasses:\n",
      " |      asyncgen_hooks\n",
      " |      UnraisableHookArgs\n",
      " |  \n",
      " |  Methods defined here:\n",
      " |  \n",
      " |  __add__(self, value, /)\n",
      " |      Return self+value.\n",
      " |  \n",
      " |  __contains__(self, key, /)\n",
      " |      Return key in self.\n",
      " |  \n",
      " |  __eq__(self, value, /)\n",
      " |      Return self==value.\n",
      " |  \n",
      " |  __ge__(self, value, /)\n",
      " |      Return self>=value.\n",
      " |  \n",
      " |  __getattribute__(self, name, /)\n",
      " |      Return getattr(self, name).\n",
      " |  \n",
      " |  __getitem__(self, key, /)\n",
      " |      Return self[key].\n",
      " |  \n",
      " |  __getnewargs__(self, /)\n",
      " |  \n",
      " |  __gt__(self, value, /)\n",
      " |      Return self>value.\n",
      " |  \n",
      " |  __hash__(self, /)\n",
      " |      Return hash(self).\n",
      " |  \n",
      " |  __iter__(self, /)\n",
      " |      Implement iter(self).\n",
      " |  \n",
      " |  __le__(self, value, /)\n",
      " |      Return self<=value.\n",
      " |  \n",
      " |  __len__(self, /)\n",
      " |      Return len(self).\n",
      " |  \n",
      " |  __lt__(self, value, /)\n",
      " |      Return self<value.\n",
      " |  \n",
      " |  __mul__(self, value, /)\n",
      " |      Return self*value.\n",
      " |  \n",
      " |  __ne__(self, value, /)\n",
      " |      Return self!=value.\n",
      " |  \n",
      " |  __repr__(self, /)\n",
      " |      Return repr(self).\n",
      " |  \n",
      " |  __rmul__(self, value, /)\n",
      " |      Return value*self.\n",
      " |  \n",
      " |  count(self, value, /)\n",
      " |      Return number of occurrences of value.\n",
      " |  \n",
      " |  index(self, value, start=0, stop=9223372036854775807, /)\n",
      " |      Return first index of value.\n",
      " |      \n",
      " |      Raises ValueError if the value is not present.\n",
      " |  \n",
      " |  ----------------------------------------------------------------------\n",
      " |  Class methods defined here:\n",
      " |  \n",
      " |  __class_getitem__(...) from builtins.type\n",
      " |      See PEP 585\n",
      " |  \n",
      " |  ----------------------------------------------------------------------\n",
      " |  Static methods defined here:\n",
      " |  \n",
      " |  __new__(*args, **kwargs) from builtins.type\n",
      " |      Create and return a new object.  See help(type) for accurate signature.\n",
      "\n"
     ]
    }
   ],
   "source": [
    "help(tuple)"
   ]
  },
  {
   "cell_type": "code",
   "execution_count": 62,
   "id": "e27dd8ad",
   "metadata": {},
   "outputs": [
    {
     "name": "stdout",
     "output_type": "stream",
     "text": [
      "(1, 2, 3, ['delhi', 'newyork', 'mexico'])\n"
     ]
    }
   ],
   "source": [
    "T2=(1,2,3,[\"delhi\",\"newyork\"])           #list within tuple considers as single element\n",
    "T2[3].extend([\"mexico\"])\n",
    "print(T2)\n"
   ]
  },
  {
   "cell_type": "markdown",
   "id": "6e396140",
   "metadata": {},
   "source": [
    "## Functions present in tuple --- count, index"
   ]
  },
  {
   "cell_type": "code",
   "execution_count": 89,
   "id": "d2e246f1",
   "metadata": {},
   "outputs": [],
   "source": [
    "names = (\"Neeraj\",\"Ram\",\"Raman\",\"Neeraj\",\"Raman\",\"Neeraj\")"
   ]
  },
  {
   "cell_type": "code",
   "execution_count": 87,
   "id": "39722c24",
   "metadata": {},
   "outputs": [
    {
     "data": {
      "text/plain": [
       "6"
      ]
     },
     "execution_count": 87,
     "metadata": {},
     "output_type": "execute_result"
    }
   ],
   "source": [
    "len(names)"
   ]
  },
  {
   "cell_type": "code",
   "execution_count": 64,
   "id": "54ec71cd",
   "metadata": {},
   "outputs": [
    {
     "data": {
      "text/plain": [
       "3"
      ]
     },
     "execution_count": 64,
     "metadata": {},
     "output_type": "execute_result"
    }
   ],
   "source": [
    "names.count(\"Neeraj\")"
   ]
  },
  {
   "cell_type": "code",
   "execution_count": 69,
   "id": "ba4481f7",
   "metadata": {},
   "outputs": [
    {
     "data": {
      "text/plain": [
       "2"
      ]
     },
     "execution_count": 69,
     "metadata": {},
     "output_type": "execute_result"
    }
   ],
   "source": [
    "names.index(\"Raman\")"
   ]
  },
  {
   "cell_type": "code",
   "execution_count": 70,
   "id": "dd81703d",
   "metadata": {},
   "outputs": [],
   "source": [
    "names = [\"Neeraj\",\"Rajat\",\"Rohit\"]"
   ]
  },
  {
   "cell_type": "code",
   "execution_count": 71,
   "id": "c70b5ff9",
   "metadata": {},
   "outputs": [],
   "source": [
    "names.clear()           #clear() not function of tuple"
   ]
  },
  {
   "cell_type": "code",
   "execution_count": 72,
   "id": "c95f1b56",
   "metadata": {},
   "outputs": [
    {
     "data": {
      "text/plain": [
       "[]"
      ]
     },
     "execution_count": 72,
     "metadata": {},
     "output_type": "execute_result"
    }
   ],
   "source": [
    "names"
   ]
  },
  {
   "cell_type": "code",
   "execution_count": 85,
   "id": "155948ca",
   "metadata": {},
   "outputs": [
    {
     "data": {
      "text/plain": [
       "0"
      ]
     },
     "execution_count": 85,
     "metadata": {},
     "output_type": "execute_result"
    }
   ],
   "source": [
    "len(names)"
   ]
  },
  {
   "cell_type": "markdown",
   "id": "4c006622",
   "metadata": {},
   "source": [
    "# 5) Sets        -collection of unique elements\n",
    "duplicates are not allow"
   ]
  },
  {
   "cell_type": "markdown",
   "id": "516f6138",
   "metadata": {},
   "source": [
    " - tuple = ()\n",
    " - list = []\n",
    " - sets = {}\n",
    " - dict = {}"
   ]
  },
  {
   "cell_type": "code",
   "execution_count": 90,
   "id": "527873ea",
   "metadata": {},
   "outputs": [],
   "source": [
    "names_set = {\"Neeraj\",\"Ram\",\"Raman\",\"Neeraj\",\"Raman\",\"Neeraj\"}"
   ]
  },
  {
   "cell_type": "code",
   "execution_count": 91,
   "id": "1e1576d6",
   "metadata": {},
   "outputs": [
    {
     "data": {
      "text/plain": [
       "set"
      ]
     },
     "execution_count": 91,
     "metadata": {},
     "output_type": "execute_result"
    }
   ],
   "source": [
    "type(names_set)"
   ]
  },
  {
   "cell_type": "code",
   "execution_count": 2,
   "id": "d109276c",
   "metadata": {},
   "outputs": [
    {
     "name": "stdout",
     "output_type": "stream",
     "text": [
      "{'Ram', 'Neeraj', 'Raman'}\n"
     ]
    }
   ],
   "source": [
    "names_set = {\"Neeraj\",\"Ram\",\"Raman\",\"Neeraj\",\"Raman\",\"Neeraj\"}\n",
    "print(names_set)     #why getting only 3 values..duplicates are not allow in sets..only unique elements"
   ]
  },
  {
   "cell_type": "code",
   "execution_count": 93,
   "id": "ed5678de",
   "metadata": {},
   "outputs": [
    {
     "data": {
      "text/plain": [
       "{'Neeraj', 'Ram', 'Raman'}"
      ]
     },
     "execution_count": 93,
     "metadata": {},
     "output_type": "execute_result"
    }
   ],
   "source": [
    "names_set           # in set there is not order...set like bag- ball inside"
   ]
  },
  {
   "cell_type": "code",
   "execution_count": 94,
   "id": "dbe8f27a",
   "metadata": {},
   "outputs": [
    {
     "data": {
      "text/plain": [
       "True"
      ]
     },
     "execution_count": 94,
     "metadata": {},
     "output_type": "execute_result"
    }
   ],
   "source": [
    "{'Raman', 'Ram', 'Neeraj'} == {'Neeraj', 'Ram', 'Raman'} # order of elements does not matter in set"
   ]
  },
  {
   "cell_type": "code",
   "execution_count": 95,
   "id": "23500fe5",
   "metadata": {},
   "outputs": [
    {
     "data": {
      "text/plain": [
       "{'Neeraj', 'Ram', 'Raman'}"
      ]
     },
     "execution_count": 95,
     "metadata": {},
     "output_type": "execute_result"
    }
   ],
   "source": [
    "names_set"
   ]
  },
  {
   "cell_type": "code",
   "execution_count": 96,
   "id": "2d5666e4",
   "metadata": {},
   "outputs": [
    {
     "name": "stdout",
     "output_type": "stream",
     "text": [
      "{'Raman', 'Ram', 'Neeraj'}\n"
     ]
    }
   ],
   "source": [
    "print(names_set)"
   ]
  },
  {
   "cell_type": "code",
   "execution_count": 3,
   "id": "071b0743",
   "metadata": {},
   "outputs": [
    {
     "ename": "TypeError",
     "evalue": "'set' object is not subscriptable",
     "output_type": "error",
     "traceback": [
      "\u001b[1;31m---------------------------------------------------------------------------\u001b[0m",
      "\u001b[1;31mTypeError\u001b[0m                                 Traceback (most recent call last)",
      "Cell \u001b[1;32mIn[3], line 2\u001b[0m\n\u001b[0;32m      1\u001b[0m names_set \u001b[38;5;241m=\u001b[39m {\u001b[38;5;124m\"\u001b[39m\u001b[38;5;124mNeeraj\u001b[39m\u001b[38;5;124m\"\u001b[39m,\u001b[38;5;124m\"\u001b[39m\u001b[38;5;124mRam\u001b[39m\u001b[38;5;124m\"\u001b[39m,\u001b[38;5;124m\"\u001b[39m\u001b[38;5;124mRaman\u001b[39m\u001b[38;5;124m\"\u001b[39m,\u001b[38;5;124m\"\u001b[39m\u001b[38;5;124mNeeraj\u001b[39m\u001b[38;5;124m\"\u001b[39m,\u001b[38;5;124m\"\u001b[39m\u001b[38;5;124mRaman\u001b[39m\u001b[38;5;124m\"\u001b[39m,\u001b[38;5;124m\"\u001b[39m\u001b[38;5;124mNeeraj\u001b[39m\u001b[38;5;124m\"\u001b[39m}\n\u001b[1;32m----> 2\u001b[0m \u001b[43mnames_set\u001b[49m\u001b[43m[\u001b[49m\u001b[38;5;241;43m0\u001b[39;49m\u001b[43m]\u001b[49m\n",
      "\u001b[1;31mTypeError\u001b[0m: 'set' object is not subscriptable"
     ]
    }
   ],
   "source": [
    "names_set = {\"Neeraj\",\"Ram\",\"Raman\",\"Neeraj\",\"Raman\",\"Neeraj\"}\n",
    "names_set[0]            # indexing is not possible in set(unordered collection of distinct elements)"
   ]
  },
  {
   "cell_type": "code",
   "execution_count": 98,
   "id": "d645d934",
   "metadata": {},
   "outputs": [
    {
     "name": "stdout",
     "output_type": "stream",
     "text": [
      "Help on class set in module builtins:\n",
      "\n",
      "class set(object)\n",
      " |  set() -> new empty set object\n",
      " |  set(iterable) -> new set object\n",
      " |  \n",
      " |  Build an unordered collection of unique elements.\n",
      " |  \n",
      " |  Methods defined here:\n",
      " |  \n",
      " |  __and__(self, value, /)\n",
      " |      Return self&value.\n",
      " |  \n",
      " |  __contains__(...)\n",
      " |      x.__contains__(y) <==> y in x.\n",
      " |  \n",
      " |  __eq__(self, value, /)\n",
      " |      Return self==value.\n",
      " |  \n",
      " |  __ge__(self, value, /)\n",
      " |      Return self>=value.\n",
      " |  \n",
      " |  __getattribute__(self, name, /)\n",
      " |      Return getattr(self, name).\n",
      " |  \n",
      " |  __gt__(self, value, /)\n",
      " |      Return self>value.\n",
      " |  \n",
      " |  __iand__(self, value, /)\n",
      " |      Return self&=value.\n",
      " |  \n",
      " |  __init__(self, /, *args, **kwargs)\n",
      " |      Initialize self.  See help(type(self)) for accurate signature.\n",
      " |  \n",
      " |  __ior__(self, value, /)\n",
      " |      Return self|=value.\n",
      " |  \n",
      " |  __isub__(self, value, /)\n",
      " |      Return self-=value.\n",
      " |  \n",
      " |  __iter__(self, /)\n",
      " |      Implement iter(self).\n",
      " |  \n",
      " |  __ixor__(self, value, /)\n",
      " |      Return self^=value.\n",
      " |  \n",
      " |  __le__(self, value, /)\n",
      " |      Return self<=value.\n",
      " |  \n",
      " |  __len__(self, /)\n",
      " |      Return len(self).\n",
      " |  \n",
      " |  __lt__(self, value, /)\n",
      " |      Return self<value.\n",
      " |  \n",
      " |  __ne__(self, value, /)\n",
      " |      Return self!=value.\n",
      " |  \n",
      " |  __or__(self, value, /)\n",
      " |      Return self|value.\n",
      " |  \n",
      " |  __rand__(self, value, /)\n",
      " |      Return value&self.\n",
      " |  \n",
      " |  __reduce__(...)\n",
      " |      Return state information for pickling.\n",
      " |  \n",
      " |  __repr__(self, /)\n",
      " |      Return repr(self).\n",
      " |  \n",
      " |  __ror__(self, value, /)\n",
      " |      Return value|self.\n",
      " |  \n",
      " |  __rsub__(self, value, /)\n",
      " |      Return value-self.\n",
      " |  \n",
      " |  __rxor__(self, value, /)\n",
      " |      Return value^self.\n",
      " |  \n",
      " |  __sizeof__(...)\n",
      " |      S.__sizeof__() -> size of S in memory, in bytes\n",
      " |  \n",
      " |  __sub__(self, value, /)\n",
      " |      Return self-value.\n",
      " |  \n",
      " |  __xor__(self, value, /)\n",
      " |      Return self^value.\n",
      " |  \n",
      " |  add(...)\n",
      " |      Add an element to a set.\n",
      " |      \n",
      " |      This has no effect if the element is already present.\n",
      " |  \n",
      " |  clear(...)\n",
      " |      Remove all elements from this set.\n",
      " |  \n",
      " |  copy(...)\n",
      " |      Return a shallow copy of a set.\n",
      " |  \n",
      " |  difference(...)\n",
      " |      Return the difference of two or more sets as a new set.\n",
      " |      \n",
      " |      (i.e. all elements that are in this set but not the others.)\n",
      " |  \n",
      " |  difference_update(...)\n",
      " |      Remove all elements of another set from this set.\n",
      " |  \n",
      " |  discard(...)\n",
      " |      Remove an element from a set if it is a member.\n",
      " |      \n",
      " |      If the element is not a member, do nothing.\n",
      " |  \n",
      " |  intersection(...)\n",
      " |      Return the intersection of two sets as a new set.\n",
      " |      \n",
      " |      (i.e. all elements that are in both sets.)\n",
      " |  \n",
      " |  intersection_update(...)\n",
      " |      Update a set with the intersection of itself and another.\n",
      " |  \n",
      " |  isdisjoint(...)\n",
      " |      Return True if two sets have a null intersection.\n",
      " |  \n",
      " |  issubset(...)\n",
      " |      Report whether another set contains this set.\n",
      " |  \n",
      " |  issuperset(...)\n",
      " |      Report whether this set contains another set.\n",
      " |  \n",
      " |  pop(...)\n",
      " |      Remove and return an arbitrary set element.\n",
      " |      Raises KeyError if the set is empty.\n",
      " |  \n",
      " |  remove(...)\n",
      " |      Remove an element from a set; it must be a member.\n",
      " |      \n",
      " |      If the element is not a member, raise a KeyError.\n",
      " |  \n",
      " |  symmetric_difference(...)\n",
      " |      Return the symmetric difference of two sets as a new set.\n",
      " |      \n",
      " |      (i.e. all elements that are in exactly one of the sets.)\n",
      " |  \n",
      " |  symmetric_difference_update(...)\n",
      " |      Update a set with the symmetric difference of itself and another.\n",
      " |  \n",
      " |  union(...)\n",
      " |      Return the union of sets as a new set.\n",
      " |      \n",
      " |      (i.e. all elements that are in either set.)\n",
      " |  \n",
      " |  update(...)\n",
      " |      Update a set with the union of itself and others.\n",
      " |  \n",
      " |  ----------------------------------------------------------------------\n",
      " |  Class methods defined here:\n",
      " |  \n",
      " |  __class_getitem__(...) from builtins.type\n",
      " |      See PEP 585\n",
      " |  \n",
      " |  ----------------------------------------------------------------------\n",
      " |  Static methods defined here:\n",
      " |  \n",
      " |  __new__(*args, **kwargs) from builtins.type\n",
      " |      Create and return a new object.  See help(type) for accurate signature.\n",
      " |  \n",
      " |  ----------------------------------------------------------------------\n",
      " |  Data and other attributes defined here:\n",
      " |  \n",
      " |  __hash__ = None\n",
      "\n"
     ]
    }
   ],
   "source": [
    "help(set)        # no sorting in set first need to convert into list then sort()"
   ]
  },
  {
   "cell_type": "code",
   "execution_count": null,
   "id": "6b1d05d0",
   "metadata": {},
   "outputs": [],
   "source": []
  },
  {
   "cell_type": "markdown",
   "id": "763f2341",
   "metadata": {},
   "source": [
    "## Sets\n",
    "- unordered(no indexing) collection of distinct (unique,no dublicate) elements"
   ]
  },
  {
   "cell_type": "code",
   "execution_count": 1,
   "id": "cf93a03b",
   "metadata": {},
   "outputs": [],
   "source": [
    "names = {\"Raman\",\"Rahul\",\"Raj\",\"Rahul\"}"
   ]
  },
  {
   "cell_type": "code",
   "execution_count": 2,
   "id": "080131e5",
   "metadata": {},
   "outputs": [
    {
     "name": "stdout",
     "output_type": "stream",
     "text": [
      "{'Raj', 'Raman', 'Rahul'}\n"
     ]
    }
   ],
   "source": [
    "print(names)"
   ]
  },
  {
   "cell_type": "markdown",
   "id": "e7c07ff4",
   "metadata": {},
   "source": [
    "### indexing is not supported in sets"
   ]
  },
  {
   "cell_type": "code",
   "execution_count": 3,
   "id": "18034590",
   "metadata": {
    "scrolled": true
   },
   "outputs": [
    {
     "ename": "TypeError",
     "evalue": "'set' object is not subscriptable",
     "output_type": "error",
     "traceback": [
      "\u001b[1;31m---------------------------------------------------------------------------\u001b[0m",
      "\u001b[1;31mTypeError\u001b[0m                                 Traceback (most recent call last)",
      "Cell \u001b[1;32mIn[3], line 1\u001b[0m\n\u001b[1;32m----> 1\u001b[0m \u001b[43mnames\u001b[49m\u001b[43m[\u001b[49m\u001b[38;5;241;43m0\u001b[39;49m\u001b[43m]\u001b[49m\n",
      "\u001b[1;31mTypeError\u001b[0m: 'set' object is not subscriptable"
     ]
    }
   ],
   "source": [
    "names[0]"
   ]
  },
  {
   "cell_type": "markdown",
   "id": "25338b81",
   "metadata": {},
   "source": [
    "## mutability"
   ]
  },
  {
   "cell_type": "code",
   "execution_count": 5,
   "id": "57dbc42a",
   "metadata": {},
   "outputs": [],
   "source": [
    "names.add(\"Rohan\")"
   ]
  },
  {
   "cell_type": "code",
   "execution_count": 6,
   "id": "49bd43ee",
   "metadata": {},
   "outputs": [
    {
     "data": {
      "text/plain": [
       "{'Rahul', 'Raj', 'Raman', 'Rohan'}"
      ]
     },
     "execution_count": 6,
     "metadata": {},
     "output_type": "execute_result"
    }
   ],
   "source": [
    "names"
   ]
  },
  {
   "cell_type": "code",
   "execution_count": 7,
   "id": "0170f665",
   "metadata": {},
   "outputs": [],
   "source": [
    "names.remove(\"Rahul\")"
   ]
  },
  {
   "cell_type": "code",
   "execution_count": 8,
   "id": "4dfc5535",
   "metadata": {},
   "outputs": [
    {
     "data": {
      "text/plain": [
       "{'Raj', 'Raman', 'Rohan'}"
      ]
     },
     "execution_count": 8,
     "metadata": {},
     "output_type": "execute_result"
    }
   ],
   "source": [
    "names"
   ]
  },
  {
   "cell_type": "code",
   "execution_count": 9,
   "id": "7b95276d",
   "metadata": {},
   "outputs": [],
   "source": [
    "names.add(\"Rohan\")"
   ]
  },
  {
   "cell_type": "code",
   "execution_count": 10,
   "id": "ac93accd",
   "metadata": {},
   "outputs": [
    {
     "data": {
      "text/plain": [
       "{'Raj', 'Raman', 'Rohan'}"
      ]
     },
     "execution_count": 10,
     "metadata": {},
     "output_type": "execute_result"
    }
   ],
   "source": [
    "names"
   ]
  },
  {
   "cell_type": "code",
   "execution_count": 11,
   "id": "a1e60742",
   "metadata": {},
   "outputs": [],
   "source": [
    "football = {\"afsal\",\"rohan\",\"rahul\",\"raman\"}\n",
    "cricket = {\"rahul\",\"raman\",\"chatterjee\",\"rajat\"}"
   ]
  },
  {
   "cell_type": "code",
   "execution_count": 13,
   "id": "b2ee0465",
   "metadata": {},
   "outputs": [],
   "source": [
    "playes_both_sport = football.intersection(cricket)    # we can take any set at first ft. or cr. # function intersection"
   ]
  },
  {
   "cell_type": "code",
   "execution_count": 14,
   "id": "5bb27831",
   "metadata": {},
   "outputs": [
    {
     "name": "stdout",
     "output_type": "stream",
     "text": [
      "<class 'set'>\n"
     ]
    }
   ],
   "source": [
    "print(type(playes_both_sport))"
   ]
  },
  {
   "cell_type": "code",
   "execution_count": 15,
   "id": "9a205dc3",
   "metadata": {},
   "outputs": [],
   "source": [
    "plays_either_of_sports = football.union(cricket)    # function union"
   ]
  },
  {
   "cell_type": "code",
   "execution_count": 16,
   "id": "905b1b03",
   "metadata": {},
   "outputs": [
    {
     "data": {
      "text/plain": [
       "{'afsal', 'chatterjee', 'rahul', 'rajat', 'raman', 'rohan'}"
      ]
     },
     "execution_count": 16,
     "metadata": {},
     "output_type": "execute_result"
    }
   ],
   "source": [
    "plays_either_of_sports"
   ]
  },
  {
   "cell_type": "code",
   "execution_count": 4,
   "id": "477d71c7",
   "metadata": {},
   "outputs": [
    {
     "ename": "TypeError",
     "evalue": "unhashable type: 'list'",
     "output_type": "error",
     "traceback": [
      "\u001b[1;31m---------------------------------------------------------------------------\u001b[0m",
      "\u001b[1;31mTypeError\u001b[0m                                 Traceback (most recent call last)",
      "Cell \u001b[1;32mIn[4], line 1\u001b[0m\n\u001b[1;32m----> 1\u001b[0m \u001b[38;5;28mset\u001b[39m \u001b[38;5;241m=\u001b[39m {\u001b[38;5;241m1\u001b[39m,\u001b[38;5;241m3\u001b[39m,(\u001b[38;5;241m3\u001b[39m,\u001b[38;5;241m4\u001b[39m,\u001b[38;5;241m5\u001b[39m),\u001b[38;5;124m\"\u001b[39m\u001b[38;5;124mrajdeep\u001b[39m\u001b[38;5;124m\"\u001b[39m,[\u001b[38;5;241m5\u001b[39m,\u001b[38;5;241m6\u001b[39m,\u001b[38;5;241m7\u001b[39m]}\n",
      "\u001b[1;31mTypeError\u001b[0m: unhashable type: 'list'"
     ]
    }
   ],
   "source": [
    "set = {1,3,(3,4,5),\"rajdeep\",[5,6,7]}  # we can have only immutable datatype in set elements"
   ]
  },
  {
   "cell_type": "code",
   "execution_count": 23,
   "id": "ed0425a0",
   "metadata": {},
   "outputs": [
    {
     "data": {
      "text/plain": [
       "dict"
      ]
     },
     "execution_count": 23,
     "metadata": {},
     "output_type": "execute_result"
    }
   ],
   "source": [
    "type({})"
   ]
  },
  {
   "cell_type": "code",
   "execution_count": 37,
   "id": "bab885dd",
   "metadata": {},
   "outputs": [
    {
     "name": "stdout",
     "output_type": "stream",
     "text": [
      "{}\n"
     ]
    }
   ],
   "source": [
    "print(dict())"
   ]
  },
  {
   "cell_type": "code",
   "execution_count": 38,
   "id": "a2387792",
   "metadata": {},
   "outputs": [
    {
     "name": "stdout",
     "output_type": "stream",
     "text": [
      "set()\n"
     ]
    }
   ],
   "source": [
    "print(set())"
   ]
  },
  {
   "cell_type": "code",
   "execution_count": 34,
   "id": "03b4c042",
   "metadata": {},
   "outputs": [
    {
     "name": "stdout",
     "output_type": "stream",
     "text": [
      "<class 'set'>\n"
     ]
    }
   ],
   "source": [
    "print(type(names_set))"
   ]
  },
  {
   "cell_type": "code",
   "execution_count": 30,
   "id": "4bdca555",
   "metadata": {},
   "outputs": [
    {
     "data": {
      "text/plain": [
       "0"
      ]
     },
     "execution_count": 30,
     "metadata": {},
     "output_type": "execute_result"
    }
   ],
   "source": [
    "len(names_set)"
   ]
  },
  {
   "cell_type": "code",
   "execution_count": 31,
   "id": "2bb972b2",
   "metadata": {},
   "outputs": [],
   "source": [
    "names_set.add(\"Rajat\")"
   ]
  },
  {
   "cell_type": "code",
   "execution_count": 32,
   "id": "a833180a",
   "metadata": {},
   "outputs": [
    {
     "data": {
      "text/plain": [
       "{'Rajat'}"
      ]
     },
     "execution_count": 32,
     "metadata": {},
     "output_type": "execute_result"
    }
   ],
   "source": [
    "names_set"
   ]
  },
  {
   "cell_type": "code",
   "execution_count": 39,
   "id": "2de66694",
   "metadata": {},
   "outputs": [
    {
     "name": "stdout",
     "output_type": "stream",
     "text": [
      "[]\n"
     ]
    }
   ],
   "source": [
    "print(list())"
   ]
  },
  {
   "cell_type": "code",
   "execution_count": 5,
   "id": "84a253e4",
   "metadata": {},
   "outputs": [
    {
     "name": "stdout",
     "output_type": "stream",
     "text": [
      "{'b', 'e', 'c', 'a'}\n"
     ]
    }
   ],
   "source": [
    "set = {\"a\",\"b\",\"c\"}\n",
    "set.add(\"e\")\n",
    "print(set)"
   ]
  },
  {
   "cell_type": "markdown",
   "id": "70383cc0",
   "metadata": {},
   "source": [
    "## set can have only ( immutable elements )"
   ]
  },
  {
   "cell_type": "code",
   "execution_count": 44,
   "id": "8bd4af83",
   "metadata": {},
   "outputs": [
    {
     "data": {
      "text/plain": [
       "{('Raj', 'Raman'), 'Rahul'}"
      ]
     },
     "execution_count": 44,
     "metadata": {},
     "output_type": "execute_result"
    }
   ],
   "source": [
    "{\"Rahul\",(\"Raj\",\"Raman\")}"
   ]
  },
  {
   "cell_type": "code",
   "execution_count": 49,
   "id": "c2b4586c",
   "metadata": {},
   "outputs": [
    {
     "ename": "TypeError",
     "evalue": "unhashable type: 'set'",
     "output_type": "error",
     "traceback": [
      "\u001b[1;31m---------------------------------------------------------------------------\u001b[0m",
      "\u001b[1;31mTypeError\u001b[0m                                 Traceback (most recent call last)",
      "Cell \u001b[1;32mIn[49], line 2\u001b[0m\n\u001b[0;32m      1\u001b[0m \u001b[38;5;66;03m## set can't have set within it\u001b[39;00m\n\u001b[1;32m----> 2\u001b[0m {\u001b[38;5;124m\"\u001b[39m\u001b[38;5;124mRajat\u001b[39m\u001b[38;5;124m\"\u001b[39m,\u001b[38;5;124m\"\u001b[39m\u001b[38;5;124mRaman\u001b[39m\u001b[38;5;124m\"\u001b[39m,{\u001b[38;5;124m\"\u001b[39m\u001b[38;5;124mRohit\u001b[39m\u001b[38;5;124m\"\u001b[39m,\u001b[38;5;124m\"\u001b[39m\u001b[38;5;124mChatterjee\u001b[39m\u001b[38;5;124m\"\u001b[39m}}\n",
      "\u001b[1;31mTypeError\u001b[0m: unhashable type: 'set'"
     ]
    }
   ],
   "source": [
    "## set can't have set within it\n",
    "{\"Rajat\",\"Raman\",{\"Rohit\",\"Chatterjee\"}}"
   ]
  },
  {
   "cell_type": "markdown",
   "id": "f442c243",
   "metadata": {},
   "source": [
    "\n",
    "## what are the datatypes that are not allowed in set\n",
    "\n",
    "- list\n",
    "- set\n",
    "- dictionary"
   ]
  },
  {
   "cell_type": "markdown",
   "id": "2152ed73",
   "metadata": {},
   "source": [
    "# 6) dictionary (dict)"
   ]
  },
  {
   "cell_type": "markdown",
   "id": "feea0df0",
   "metadata": {},
   "source": [
    "### lets assume we have 5 students\n",
    "- Rahul: 50\n",
    "- Rajat: 87\n",
    "- Skggote:90\n",
    "- Dhanush:76\n",
    "- Harsh:99\n",
    "\n",
    "above are associated data"
   ]
  },
  {
   "cell_type": "markdown",
   "id": "32791dfa",
   "metadata": {},
   "source": [
    "- tuple\n",
    "- list"
   ]
  },
  {
   "cell_type": "code",
   "execution_count": 5,
   "id": "08a81418",
   "metadata": {},
   "outputs": [
    {
     "data": {
      "text/plain": [
       "['Rahul', 50]"
      ]
     },
     "execution_count": 5,
     "metadata": {},
     "output_type": "execute_result"
    }
   ],
   "source": [
    "students_marks = [[\"Rahul\",50],[\"Rajat\",87],[\"Skggote\",90],[\"Dhanush\",76],[\"Harsh\",99]]\n",
    "students_marks[0]"
   ]
  },
  {
   "cell_type": "code",
   "execution_count": 59,
   "id": "5a874032",
   "metadata": {},
   "outputs": [],
   "source": [
    "student_marks = {\"Rahul\":50,\"Rajat\":87,\"Skggote\":[90],\"Dhanush\":76,\"Harsh\":99,\"Rahul\":59} \n",
    "# rules application to sets same applicable to keys in dict and not on values"
   ]
  },
  {
   "cell_type": "code",
   "execution_count": 56,
   "id": "8d356339",
   "metadata": {},
   "outputs": [
    {
     "data": {
      "text/plain": [
       "59"
      ]
     },
     "execution_count": 56,
     "metadata": {},
     "output_type": "execute_result"
    }
   ],
   "source": [
    "student_marks[\"Rahul\"]    # rahul rajat skggote dhanush harsh  are keys & 50 87 90 76..are values"
   ]
  },
  {
   "cell_type": "code",
   "execution_count": 57,
   "id": "0404dafc",
   "metadata": {},
   "outputs": [
    {
     "data": {
      "text/plain": [
       "{'Rahul': 59, 'Rajat': 87, 'Skggote': 90, 'Dhanush': 76, 'Harsh': 99}"
      ]
     },
     "execution_count": 57,
     "metadata": {},
     "output_type": "execute_result"
    }
   ],
   "source": [
    "student_marks"
   ]
  },
  {
   "cell_type": "markdown",
   "id": "b68983c5",
   "metadata": {},
   "source": [
    "## ***Keys*** in dictionary are unique and are of**** immutable*** data type\n",
    "but values can be mutable form e.g. list form\n"
   ]
  },
  {
   "cell_type": "code",
   "execution_count": 60,
   "id": "0021a910",
   "metadata": {},
   "outputs": [
    {
     "ename": "TypeError",
     "evalue": "unhashable type: 'list'",
     "output_type": "error",
     "traceback": [
      "\u001b[1;31m---------------------------------------------------------------------------\u001b[0m",
      "\u001b[1;31mTypeError\u001b[0m                                 Traceback (most recent call last)",
      "Cell \u001b[1;32mIn[60], line 2\u001b[0m\n\u001b[0;32m      1\u001b[0m \u001b[38;5;66;03m## Keys in dictionary are unique and are of immutable data type\u001b[39;00m\n\u001b[1;32m----> 2\u001b[0m {\u001b[38;5;124m\"\u001b[39m\u001b[38;5;124mRahul\u001b[39m\u001b[38;5;124m\"\u001b[39m:\u001b[38;5;241m90\u001b[39m,[\u001b[38;5;124m\"\u001b[39m\u001b[38;5;124mRajat\u001b[39m\u001b[38;5;124m\"\u001b[39m,\u001b[38;5;124m\"\u001b[39m\u001b[38;5;124mRaman\u001b[39m\u001b[38;5;124m\"\u001b[39m,\u001b[38;5;124m\"\u001b[39m\u001b[38;5;124mRohit\u001b[39m\u001b[38;5;124m\"\u001b[39m]:\u001b[38;5;241m90\u001b[39m}\n",
      "\u001b[1;31mTypeError\u001b[0m: unhashable type: 'list'"
     ]
    }
   ],
   "source": [
    "{\"Rahul\":90,[\"Rajat\",\"Raman\",\"Rohit\"]:90}"
   ]
  },
  {
   "cell_type": "markdown",
   "id": "6f05bdcc",
   "metadata": {},
   "source": [
    "#### Which of the dictionary definition is correct?\n",
    "- a) {\"Rahul\":67 , \"Raman\":[395,494] , 90:[1,2,3,4,{5,6}]}\n",
    "- b) {\"Rahul\":67 , \"Raman\":[395,494] , [90]:[1,2,3,4,{5,6}]}   #option b wrong\n",
    "- c)  {\"Rahul\":67 , \"Raman\":{395,494} , 90:[1,2,3,4,{5,6}]}"
   ]
  },
  {
   "cell_type": "code",
   "execution_count": 61,
   "id": "f344fccb",
   "metadata": {},
   "outputs": [
    {
     "data": {
      "text/plain": [
       "{'Rahul': 67, 'Raman': [395, 494], 90: [1, 2, 3, 4, {5, 6}]}"
      ]
     },
     "execution_count": 61,
     "metadata": {},
     "output_type": "execute_result"
    }
   ],
   "source": [
    "# a option\n",
    "{\"Rahul\":67,\"Raman\":[395,494],90:[1,2,3,4,{5,6}]}"
   ]
  },
  {
   "cell_type": "code",
   "execution_count": 7,
   "id": "d11ed0a3",
   "metadata": {},
   "outputs": [
    {
     "ename": "TypeError",
     "evalue": "unhashable type: 'list'",
     "output_type": "error",
     "traceback": [
      "\u001b[1;31m---------------------------------------------------------------------------\u001b[0m",
      "\u001b[1;31mTypeError\u001b[0m                                 Traceback (most recent call last)",
      "Cell \u001b[1;32mIn[7], line 2\u001b[0m\n\u001b[0;32m      1\u001b[0m \u001b[38;5;66;03m# b option               # [keys-allow immutable only i.e. numbers,string,tuple]not mutable(list,set,dict)\u001b[39;00m\n\u001b[1;32m----> 2\u001b[0m {\u001b[38;5;124m\"\u001b[39m\u001b[38;5;124mRahul\u001b[39m\u001b[38;5;124m\"\u001b[39m:\u001b[38;5;241m67\u001b[39m,\u001b[38;5;124m\"\u001b[39m\u001b[38;5;124mRaman\u001b[39m\u001b[38;5;124m\"\u001b[39m:[\u001b[38;5;241m395\u001b[39m,\u001b[38;5;241m494\u001b[39m],[\u001b[38;5;241m90\u001b[39m]:[\u001b[38;5;241m1\u001b[39m,\u001b[38;5;241m2\u001b[39m,\u001b[38;5;241m3\u001b[39m,\u001b[38;5;241m4\u001b[39m,{\u001b[38;5;241m5\u001b[39m,\u001b[38;5;241m6\u001b[39m}]}\n",
      "\u001b[1;31mTypeError\u001b[0m: unhashable type: 'list'"
     ]
    }
   ],
   "source": [
    "# b option               # [keys-allow immutable only i.e. numbers,string,tuple]not mutable(list,set,dict)\n",
    "{\"Rahul\":67,\"Raman\":[395,494],[90]:[1,2,3,4,{5,6}]} "
   ]
  },
  {
   "cell_type": "code",
   "execution_count": 65,
   "id": "9d96c85a",
   "metadata": {},
   "outputs": [
    {
     "data": {
      "text/plain": [
       "{'Rahul': 67, 'Raman': [395, 494], (90,): [1, 2, 3, 4, {5, 6}]}"
      ]
     },
     "execution_count": 65,
     "metadata": {},
     "output_type": "execute_result"
    }
   ],
   "source": [
    "{\"Rahul\":67,\"Raman\":[395,494],(90,):[1,2,3,4,{5,6}]}"
   ]
  },
  {
   "cell_type": "code",
   "execution_count": 66,
   "id": "15375641",
   "metadata": {},
   "outputs": [
    {
     "data": {
      "text/plain": [
       "{'Rahul': 67, 'Raman': {395, 494}, 90: [1, 2, 3, 4, {5, 6}]}"
      ]
     },
     "execution_count": 66,
     "metadata": {},
     "output_type": "execute_result"
    }
   ],
   "source": [
    "# c\n",
    "{\"Rahul\":67,\"Raman\":{395,494},90:[1,2,3,4,{5,6}]}"
   ]
  },
  {
   "cell_type": "code",
   "execution_count": 67,
   "id": "dee3737b",
   "metadata": {},
   "outputs": [],
   "source": [
    "my_dict = {\"Rahul\":67,\"Raman\":{395,494},90:[1,2,3,4,{5,6}]}   # values can be anything..restrition on only keys"
   ]
  },
  {
   "cell_type": "code",
   "execution_count": 68,
   "id": "6b868008",
   "metadata": {},
   "outputs": [
    {
     "data": {
      "text/plain": [
       "67"
      ]
     },
     "execution_count": 68,
     "metadata": {},
     "output_type": "execute_result"
    }
   ],
   "source": [
    "my_dict['Rahul']"
   ]
  },
  {
   "cell_type": "code",
   "execution_count": 69,
   "id": "801c747b",
   "metadata": {},
   "outputs": [
    {
     "data": {
      "text/plain": [
       "{395, 494}"
      ]
     },
     "execution_count": 69,
     "metadata": {},
     "output_type": "execute_result"
    }
   ],
   "source": [
    "my_dict['Raman']"
   ]
  },
  {
   "cell_type": "code",
   "execution_count": 70,
   "id": "7ba2cfc5",
   "metadata": {},
   "outputs": [
    {
     "ename": "KeyError",
     "evalue": "'Rohit'",
     "output_type": "error",
     "traceback": [
      "\u001b[1;31m---------------------------------------------------------------------------\u001b[0m",
      "\u001b[1;31mKeyError\u001b[0m                                  Traceback (most recent call last)",
      "Cell \u001b[1;32mIn[70], line 1\u001b[0m\n\u001b[1;32m----> 1\u001b[0m \u001b[43mmy_dict\u001b[49m\u001b[43m[\u001b[49m\u001b[38;5;124;43m\"\u001b[39;49m\u001b[38;5;124;43mRohit\u001b[39;49m\u001b[38;5;124;43m\"\u001b[39;49m\u001b[43m]\u001b[49m\n",
      "\u001b[1;31mKeyError\u001b[0m: 'Rohit'"
     ]
    }
   ],
   "source": [
    "my_dict[\"Rohit\"]"
   ]
  },
  {
   "cell_type": "code",
   "execution_count": 71,
   "id": "22bd09d7",
   "metadata": {},
   "outputs": [
    {
     "data": {
      "text/plain": [
       "[1, 2, 3, 4, {5, 6}]"
      ]
     },
     "execution_count": 71,
     "metadata": {},
     "output_type": "execute_result"
    }
   ],
   "source": [
    "my_dict[90]"
   ]
  },
  {
   "cell_type": "markdown",
   "id": "91215f71",
   "metadata": {},
   "source": [
    "## doubt clearing session (revision)"
   ]
  },
  {
   "cell_type": "markdown",
   "id": "3a9a024f",
   "metadata": {},
   "source": [
    "there are 5 datatype -->\n",
    "- numeric datatype - int,float,complex\n",
    "- sequence type - str,list,tuple\n",
    "- boolean datatype\n",
    "- dictionary datatype\n",
    "- set datatype"
   ]
  },
  {
   "cell_type": "markdown",
   "id": "ef0b8f7a",
   "metadata": {},
   "source": [
    "- mutable-- list, dict, set,(it can be change)\n",
    "- immutable-numeric dtype,str, tuple, boolean (it can not be change)"
   ]
  },
  {
   "cell_type": "code",
   "execution_count": null,
   "id": "59d72182",
   "metadata": {},
   "outputs": [],
   "source": [
    "type()\n",
    "id()"
   ]
  },
  {
   "cell_type": "code",
   "execution_count": null,
   "id": "a7625977",
   "metadata": {},
   "outputs": [],
   "source": [
    "tuple-- item are ordered, unchangeable and allow duplicate values(tuple is faster than list)\n",
    "array - consist of similar type of dtype"
   ]
  },
  {
   "cell_type": "code",
   "execution_count": 3,
   "id": "ed40da1f",
   "metadata": {},
   "outputs": [
    {
     "data": {
      "text/plain": [
       "list"
      ]
     },
     "execution_count": 3,
     "metadata": {},
     "output_type": "execute_result"
    }
   ],
   "source": [
    "z =[]\n",
    "type(z)"
   ]
  },
  {
   "cell_type": "code",
   "execution_count": null,
   "id": "4e6166f7",
   "metadata": {},
   "outputs": [],
   "source": [
    "inbuild funtions in set--> union,intersection,add"
   ]
  },
  {
   "cell_type": "markdown",
   "id": "b6e98b01",
   "metadata": {},
   "source": [
    "there are two type of loop\n",
    "- for loop --> when we know the number of iteration(repeatation)\n",
    "- while loop --> when we know the condition"
   ]
  },
  {
   "cell_type": "code",
   "execution_count": 4,
   "id": "7f7156d7",
   "metadata": {},
   "outputs": [
    {
     "name": "stdout",
     "output_type": "stream",
     "text": [
      "hello world 0\n",
      "hello world 1\n",
      "hello world 2\n",
      "hello world 3\n",
      "hello world 4\n"
     ]
    }
   ],
   "source": [
    "# hello word 100 times weite..we know iteration use for loop\n",
    "for i in range(0,5):\n",
    "    print(\"hello world\",end=\" \")\n",
    "    print(i)\n"
   ]
  },
  {
   "cell_type": "code",
   "execution_count": 5,
   "id": "2784c3c3",
   "metadata": {},
   "outputs": [
    {
     "name": "stdout",
     "output_type": "stream",
     "text": [
      "0 1 2 3 4 5 6 7 "
     ]
    }
   ],
   "source": [
    "list1 = [12,22,34,5,66,7,8,5]\n",
    "\n",
    "for i in range(len(list1)):   # printing indexes\n",
    "    print(i, end=\" \")"
   ]
  },
  {
   "cell_type": "code",
   "execution_count": 6,
   "id": "76ba2a14",
   "metadata": {},
   "outputs": [
    {
     "name": "stdout",
     "output_type": "stream",
     "text": [
      "12 22 34 5 66 7 8 5 "
     ]
    }
   ],
   "source": [
    "list1 = [12,22,34,5,66,7,8,5]\n",
    "\n",
    "for i in list1:        # printing list elements\n",
    "    print(i, end=\" \")"
   ]
  },
  {
   "cell_type": "markdown",
   "id": "e3f135af",
   "metadata": {},
   "source": [
    "functions in list--> append ,pop, sort"
   ]
  },
  {
   "cell_type": "code",
   "execution_count": 7,
   "id": "811f64fc",
   "metadata": {},
   "outputs": [
    {
     "name": "stdout",
     "output_type": "stream",
     "text": [
      "[10, 20, 30, 5, 6, 8]\n",
      "8\n",
      "[10, 20, 30, 5, 6]\n",
      "[10, 20, 30, 5, 6, 90]\n",
      "[5, 6, 10, 20, 30, 90]\n"
     ]
    }
   ],
   "source": [
    "x = [10,20,30,5,6,8]\n",
    "print(x)\n",
    "print(x.pop())\n",
    "print(x)\n",
    "x.append(90)\n",
    "print(x)\n",
    "print(sorted(x))"
   ]
  },
  {
   "cell_type": "code",
   "execution_count": 8,
   "id": "ae81da15",
   "metadata": {},
   "outputs": [
    {
     "name": "stdout",
     "output_type": "stream",
     "text": [
      "{'name': 'uuu', 'Roll no': 78, 'raj': 78}\n"
     ]
    },
    {
     "data": {
      "text/plain": [
       "{'Roll no', 'name', 'raj'}"
      ]
     },
     "execution_count": 8,
     "metadata": {},
     "output_type": "execute_result"
    }
   ],
   "source": [
    "dictionary = {\"name\":\"xyz\",\"Roll no\":78,\"name\":\"uuu\",\"raj\":78}  # keys are unique and value can be duplicated\n",
    "print(dictionary)\n",
    "set1 =set(dictionary)\n",
    "set1"
   ]
  },
  {
   "cell_type": "code",
   "execution_count": 9,
   "id": "cf436245",
   "metadata": {},
   "outputs": [
    {
     "name": "stdout",
     "output_type": "stream",
     "text": [
      "dict_keys(['name', 'Roll no'])\n",
      "dict_values(['xyz', 78])\n"
     ]
    }
   ],
   "source": [
    "dictionary = {\"name\":\"xyz\",\"Roll no\":78}\n",
    "print(dictionary.keys())\n",
    "print(dictionary.values())"
   ]
  },
  {
   "cell_type": "code",
   "execution_count": 10,
   "id": "333e44c8",
   "metadata": {},
   "outputs": [
    {
     "name": "stdout",
     "output_type": "stream",
     "text": [
      "This Is A String\n",
      "this is a string\n",
      "THIS IS A STRING\n"
     ]
    }
   ],
   "source": [
    "x= \"this is a string\"  # capitalise first function of string\n",
    "print(x.title())\n",
    "print(x.lower())\n",
    "print(x.upper())"
   ]
  },
  {
   "cell_type": "code",
   "execution_count": 11,
   "id": "ee2dd885",
   "metadata": {},
   "outputs": [
    {
     "name": "stdout",
     "output_type": "stream",
     "text": [
      "True\n",
      "True\n",
      "True\n"
     ]
    }
   ],
   "source": [
    "#membership --> in and not in\n",
    "\n",
    "list1 = [10,20,30]\n",
    "for i in list1 :\n",
    "    if i in list1:\n",
    "        print(True)\n",
    "    else:\n",
    "        print(False)"
   ]
  },
  {
   "cell_type": "code",
   "execution_count": null,
   "id": "8fb01ccd",
   "metadata": {},
   "outputs": [],
   "source": []
  },
  {
   "cell_type": "code",
   "execution_count": null,
   "id": "7aeed4de",
   "metadata": {},
   "outputs": [],
   "source": []
  },
  {
   "cell_type": "code",
   "execution_count": null,
   "id": "8ad43039",
   "metadata": {},
   "outputs": [],
   "source": []
  },
  {
   "cell_type": "code",
   "execution_count": null,
   "id": "bdd949fc",
   "metadata": {},
   "outputs": [],
   "source": []
  }
 ],
 "metadata": {
  "kernelspec": {
   "display_name": "Python 3 (ipykernel)",
   "language": "python",
   "name": "python3"
  },
  "language_info": {
   "codemirror_mode": {
    "name": "ipython",
    "version": 3
   },
   "file_extension": ".py",
   "mimetype": "text/x-python",
   "name": "python",
   "nbconvert_exporter": "python",
   "pygments_lexer": "ipython3",
   "version": "3.10.9"
  }
 },
 "nbformat": 4,
 "nbformat_minor": 5
}
