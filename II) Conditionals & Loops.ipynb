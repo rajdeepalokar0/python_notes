{
 "cells": [
  {
   "cell_type": "code",
   "execution_count": 5,
   "id": "d8b138a8",
   "metadata": {},
   "outputs": [
    {
     "name": "stdout",
     "output_type": "stream",
     "text": [
      "17\n"
     ]
    }
   ],
   "source": [
    "## take input from the user\n",
    "age = int(input())"
   ]
  },
  {
   "cell_type": "code",
   "execution_count": 6,
   "id": "dd71b013",
   "metadata": {},
   "outputs": [
    {
     "name": "stdout",
     "output_type": "stream",
     "text": [
      "17\n"
     ]
    }
   ],
   "source": [
    "print(age)"
   ]
  },
  {
   "cell_type": "code",
   "execution_count": 11,
   "id": "a65fa335",
   "metadata": {},
   "outputs": [
    {
     "name": "stdout",
     "output_type": "stream",
     "text": [
      "18.5\n"
     ]
    }
   ],
   "source": [
    "age = input()"
   ]
  },
  {
   "cell_type": "code",
   "execution_count": 13,
   "id": "858c4ee8",
   "metadata": {},
   "outputs": [
    {
     "data": {
      "text/plain": [
       "18.5"
      ]
     },
     "execution_count": 13,
     "metadata": {},
     "output_type": "execute_result"
    }
   ],
   "source": [
    "float(age)"
   ]
  },
  {
   "cell_type": "code",
   "execution_count": 9,
   "id": "704530b1",
   "metadata": {},
   "outputs": [],
   "source": [
    "age = int(age)"
   ]
  },
  {
   "cell_type": "code",
   "execution_count": 10,
   "id": "1e8f63d5",
   "metadata": {},
   "outputs": [
    {
     "data": {
      "text/plain": [
       "19"
      ]
     },
     "execution_count": 10,
     "metadata": {},
     "output_type": "execute_result"
    }
   ],
   "source": [
    "age"
   ]
  },
  {
   "cell_type": "code",
   "execution_count": 16,
   "id": "250d6ae9",
   "metadata": {},
   "outputs": [
    {
     "name": "stdout",
     "output_type": "stream",
     "text": [
      "65\n"
     ]
    }
   ],
   "source": [
    "age = int(input())"
   ]
  },
  {
   "cell_type": "code",
   "execution_count": 15,
   "id": "f9f2229c",
   "metadata": {},
   "outputs": [
    {
     "data": {
      "text/plain": [
       "90"
      ]
     },
     "execution_count": 15,
     "metadata": {},
     "output_type": "execute_result"
    }
   ],
   "source": [
    "age"
   ]
  },
  {
   "cell_type": "code",
   "execution_count": 17,
   "id": "e319a6f3",
   "metadata": {},
   "outputs": [
    {
     "name": "stdout",
     "output_type": "stream",
     "text": [
      "17\n"
     ]
    }
   ],
   "source": []
  },
  {
   "cell_type": "code",
   "execution_count": 4,
   "id": "5e15beaa",
   "metadata": {},
   "outputs": [
    {
     "name": "stdout",
     "output_type": "stream",
     "text": [
      "17\n",
      "You are underage\n",
      "You cannot access instagram\n"
     ]
    }
   ],
   "source": [
    "age = int(input())\n",
    "if age>18:\n",
    "    print(\"Welcome to instagram\")\n",
    "    print(\"You are eligible\")\n",
    "else:\n",
    "    print(\"You are underage\\nYou cannot access instagram\")"
   ]
  },
  {
   "cell_type": "code",
   "execution_count": null,
   "id": "ae731b77",
   "metadata": {},
   "outputs": [],
   "source": [
    "## write a code that checks whether a number is even or odd"
   ]
  },
  {
   "cell_type": "markdown",
   "id": "f6b0f8f8",
   "metadata": {},
   "source": [
    "# if - else"
   ]
  },
  {
   "cell_type": "code",
   "execution_count": 34,
   "id": "bcca2924",
   "metadata": {},
   "outputs": [
    {
     "name": "stdout",
     "output_type": "stream",
     "text": [
      "Kindly enter the number : 87\n",
      "87  is an odd number\n"
     ]
    }
   ],
   "source": [
    "num = int(input(\"Kindly enter the number : \"))\n",
    "\n",
    "if num%2==0:\n",
    "    print(num,\" is an even number\")\n",
    "else:\n",
    "    print(num,\" is an odd number\")"
   ]
  },
  {
   "cell_type": "markdown",
   "id": "2eb6d0f2",
   "metadata": {},
   "source": [
    "## if-elif-else"
   ]
  },
  {
   "cell_type": "code",
   "execution_count": 39,
   "id": "266d07a6",
   "metadata": {},
   "outputs": [
    {
     "name": "stdout",
     "output_type": "stream",
     "text": [
      "Kindly enter the number : 21\n",
      "Nice the number is between 20 and 30\n"
     ]
    }
   ],
   "source": [
    "num = int(input(\"Kindly enter the number : \"))\n",
    "\n",
    "if num > 30:\n",
    "    print(\"Awesome the number is greater than 30\")\n",
    "elif (num >=20 and num <=30):\n",
    "    print(\"Nice the number is between 20 and 30\")\n",
    "else:\n",
    "    print(\"Poor the number is less than 20\")"
   ]
  },
  {
   "cell_type": "markdown",
   "id": "6c6fc93a",
   "metadata": {},
   "source": [
    "Write a program to accept percentage from the user and display the grade according to the following criteria:\n",
    "-          Marks                                    Grade\n",
    "-         > 90                                         A\n",
    "-         > 80 and <= 90                               B\n",
    "-         >= 60 and <= 80                              C\n",
    "-         below 60                                     D"
   ]
  },
  {
   "cell_type": "code",
   "execution_count": 6,
   "id": "807c6628",
   "metadata": {},
   "outputs": [
    {
     "name": "stdout",
     "output_type": "stream",
     "text": [
      "56\n",
      "D\n"
     ]
    }
   ],
   "source": [
    "perc = float(input())\n",
    "\n",
    "if perc >100:\n",
    "    print(\"Invalid Input\")\n",
    "elif perc>90:\n",
    "    print(\"A\")\n",
    "elif perc >80 and perc <=90:\n",
    "    print(\"B\")\n",
    "elif perc >=60 and perc <=80:\n",
    "    print(\"C\")\n",
    "else:\n",
    "    print(\"D\")\n",
    "    "
   ]
  },
  {
   "cell_type": "code",
   "execution_count": 44,
   "id": "3455e944",
   "metadata": {},
   "outputs": [
    {
     "name": "stdout",
     "output_type": "stream",
     "text": [
      "90\n",
      "Grade B\n"
     ]
    }
   ],
   "source": [
    "a = float(input())\n",
    "if a > 90:\n",
    "    print(\"Grade A\")\n",
    "elif a >80:\n",
    "    print(\"Grade B\")\n",
    "elif a >60:\n",
    "    print(\"Grade C\")    \n",
    "else:\n",
    "    print(\"Grade D\")"
   ]
  },
  {
   "cell_type": "markdown",
   "id": "995f1c83",
   "metadata": {},
   "source": [
    "## session by rahul sir resume"
   ]
  },
  {
   "cell_type": "markdown",
   "id": "ee93d2d3",
   "metadata": {},
   "source": [
    "## For loop --only for iteration(for doing repeated task..for multiple time)"
   ]
  },
  {
   "cell_type": "code",
   "execution_count": 1,
   "id": "ef551a94",
   "metadata": {},
   "outputs": [],
   "source": [
    "students = [\"Rakesh\",\"Ramesh\",\"Rajesh\"]\n"
   ]
  },
  {
   "cell_type": "code",
   "execution_count": 2,
   "id": "666245b1",
   "metadata": {},
   "outputs": [
    {
     "name": "stdout",
     "output_type": "stream",
     "text": [
      "Rakesh\n",
      "Ramesh\n",
      "Rajesh\n"
     ]
    }
   ],
   "source": [
    "print(students[0])\n",
    "print(students[1])\n",
    "print(students[2])"
   ]
  },
  {
   "cell_type": "code",
   "execution_count": 17,
   "id": "6058c875",
   "metadata": {},
   "outputs": [
    {
     "name": "stdout",
     "output_type": "stream",
     "text": [
      "Rakesh\n",
      "------\n",
      "Ramesh\n",
      "------\n",
      "Rajesh\n",
      "------\n",
      "After for loop\n"
     ]
    }
   ],
   "source": [
    "students = [\"Rakesh\",\"Ramesh\",\"Rajesh\"]\n",
    "\n",
    "for name in students:                     # here \"name\" variable created-->one element take from students and store in name\n",
    "    print(name)                           # and stored element in name--printed through command-->loop created\n",
    "    print(\"------\")\n",
    "    \n",
    "print(\"After for loop\")"
   ]
  },
  {
   "cell_type": "code",
   "execution_count": 16,
   "id": "35202c51",
   "metadata": {
    "scrolled": true
   },
   "outputs": [
    {
     "name": "stdout",
     "output_type": "stream",
     "text": [
      "0 -----> Rakesh\n",
      "1 -----> Ramesh\n",
      "2 -----> Rajesh\n"
     ]
    }
   ],
   "source": [
    "num_list = [0,1,2]\n",
    "\n",
    "for num in num_list:\n",
    "    print(num,\"--->\",students[num])   # students[num]=>num use because..num representing element position location within students list"
   ]
  },
  {
   "cell_type": "markdown",
   "id": "522e8af3",
   "metadata": {},
   "source": [
    "- is there better way to generate above indexing without making list"
   ]
  },
  {
   "cell_type": "markdown",
   "id": "d90ad954",
   "metadata": {},
   "source": [
    "#### range function\n",
    "range(start,end+1):"
   ]
  },
  {
   "cell_type": "code",
   "execution_count": 26,
   "id": "70d482e7",
   "metadata": {},
   "outputs": [
    {
     "name": "stdout",
     "output_type": "stream",
     "text": [
      "40\n",
      "41\n",
      "42\n",
      "43\n",
      "44\n"
     ]
    }
   ],
   "source": [
    "for num in range(40,45):\n",
    "    print(num)"
   ]
  },
  {
   "cell_type": "code",
   "execution_count": 24,
   "id": "bc8c8fad",
   "metadata": {},
   "outputs": [
    {
     "name": "stdout",
     "output_type": "stream",
     "text": [
      "0 -------> Rakesh\n",
      "1 -------> Ramesh\n",
      "2 -------> Rajesh\n"
     ]
    }
   ],
   "source": [
    "students = [\"Rakesh\",\"Ramesh\",\"Rajesh\"]\n",
    "\n",
    "for num in range(0,len(students)):        #instead of len(students) we can write 3..but need to count & write every time so that denote only with variable\n",
    "    print(num,\"------->\",students[num])   # students[num] mean students[0],students[1],students[2].etc placed elements"
   ]
  },
  {
   "cell_type": "code",
   "execution_count": 33,
   "id": "a043959c",
   "metadata": {},
   "outputs": [
    {
     "name": "stdout",
     "output_type": "stream",
     "text": [
      "100\n"
     ]
    }
   ],
   "source": [
    "marks_list = [10,20,30,40]\n",
    "total = 0                    # created variable total which consider as initially 0\n",
    "for marks in marks_list:\n",
    "    total = total + marks  # put into python tutor and visualize # total + makrs stored in total again same total marks use in operation--loop\n",
    "                              # we need total so that we use two time total\n",
    "print(total)"
   ]
  },
  {
   "cell_type": "code",
   "execution_count": 1,
   "id": "9de87f6d",
   "metadata": {},
   "outputs": [],
   "source": [
    "# Print list in reverse order using a loop\n",
    "input = [1,2,3,4,5,6,7,8]\n",
    "\n",
    "output = 8 7 6 5 4 3 2 1"
   ]
  },
  {
   "cell_type": "code",
   "execution_count": 14,
   "id": "71b1b84f",
   "metadata": {},
   "outputs": [],
   "source": [
    "\n"
   ]
  },
  {
   "cell_type": "code",
   "execution_count": null,
   "id": "08602ef9",
   "metadata": {},
   "outputs": [],
   "source": [
    "range(start,end,steps)   #by default +1 take    # end part not included"
   ]
  },
  {
   "cell_type": "code",
   "execution_count": 25,
   "id": "07b606fb",
   "metadata": {},
   "outputs": [
    {
     "name": "stdout",
     "output_type": "stream",
     "text": [
      "7 6 5 4 3 2 1 0 "
     ]
    }
   ],
   "source": [
    "input_lst = [1,2,15,4,5,16,17,18]\n",
    "for i in range(len(input_lst)-1,-1,-1):   \n",
    "    print(i,end = ' ')\n",
    "          # above we are not working with input list..only indexing"
   ]
  },
  {
   "cell_type": "code",
   "execution_count": 24,
   "id": "b36a5ac3",
   "metadata": {},
   "outputs": [
    {
     "name": "stdout",
     "output_type": "stream",
     "text": [
      "18 17 16 5 4 15 2 1 "
     ]
    }
   ],
   "source": [
    "input_lst = [1,2,15,4,5,16,17,18]\n",
    "for i in range(len(input_lst)-1,-1,-1):    # len(input_lst)-1  this provide index of last elements(dynamic)\n",
    "    print(input_lst[i],end = ' ')        # till -1  because last element does not consider..if take -1 then consider till 0\n",
    "          #above input_lst[i] now we are working with input list                          # another -1 steping"
   ]
  },
  {
   "cell_type": "code",
   "execution_count": 1,
   "id": "5bc4d65d",
   "metadata": {},
   "outputs": [
    {
     "name": "stdout",
     "output_type": "stream",
     "text": [
      "8 7 6 5 4 3 2 1 0 "
     ]
    }
   ],
   "source": [
    "for i in range(8,-1,-1):\n",
    "    print(i , end = \" \")    "
   ]
  },
  {
   "cell_type": "code",
   "execution_count": 6,
   "id": "ee61d1d1",
   "metadata": {},
   "outputs": [
    {
     "name": "stdout",
     "output_type": "stream",
     "text": [
      "eejrettahC"
     ]
    }
   ],
   "source": [
    "input_lst = \"Chatterjee\"\n",
    "for i in range(len(input_lst)-1,-1,-1):   #here actually we are creating indexes in reverse order and using those indexes on our list to get those elements in reverse order\n",
    "    print(input_lst[i],end = '')           #in this case i printede actual element of string"
   ]
  },
  {
   "cell_type": "code",
   "execution_count": 11,
   "id": "38e61c4a",
   "metadata": {},
   "outputs": [
    {
     "name": "stdout",
     "output_type": "stream",
     "text": [
      "9 8 7 6 5 4 3 2 1 0 "
     ]
    }
   ],
   "source": [
    "input_lst = \"Chatterjee\"\n",
    "for i in range(len(input_lst)-1,-1,-1):\n",
    "    print(i,end = ' ')                     # in this case i printed indexing number of element"
   ]
  },
  {
   "cell_type": "code",
   "execution_count": 27,
   "id": "bd2ce39b",
   "metadata": {},
   "outputs": [
    {
     "name": "stdout",
     "output_type": "stream",
     "text": [
      "19+18+17+16+15+14+13+"
     ]
    }
   ],
   "source": [
    "for i in range(19,12,-1):\n",
    "    print(i , end = \"+\")"
   ]
  },
  {
   "cell_type": "code",
   "execution_count": null,
   "id": "687b61e3",
   "metadata": {},
   "outputs": [],
   "source": []
  },
  {
   "cell_type": "code",
   "execution_count": 52,
   "id": "ae94c71d",
   "metadata": {},
   "outputs": [
    {
     "name": "stdout",
     "output_type": "stream",
     "text": [
      "12\n"
     ]
    }
   ],
   "source": [
    "# write a program to all the even indexes number from the list\n",
    "given_list = [1,2,3,4,5,6,7,8]\n",
    "\n",
    "a=0\n",
    "\n",
    "for i in range(0,len(given_list)):\n",
    "    if i%2==0:                     #here we are checking even index places not even numbers\n",
    "        a=a+i     #--->adding indexes only\n",
    "print(a)"
   ]
  },
  {
   "cell_type": "code",
   "execution_count": 54,
   "id": "7a9eaf4f",
   "metadata": {},
   "outputs": [
    {
     "name": "stdout",
     "output_type": "stream",
     "text": [
      "16\n"
     ]
    }
   ],
   "source": [
    "given_list = [1,2,3,4,5,6,7,8]\n",
    "\n",
    "a=0\n",
    "\n",
    "for i in range(0,len(given_list)):\n",
    "    if i%2==0:                     #here we are checking even index places not even numbers\n",
    "        a=a+given_list[i]    #----> index elements adding\n",
    "print(a)"
   ]
  },
  {
   "cell_type": "code",
   "execution_count": null,
   "id": "ae90b4ae",
   "metadata": {},
   "outputs": [],
   "source": []
  },
  {
   "cell_type": "code",
   "execution_count": 63,
   "id": "c03ab8f4",
   "metadata": {},
   "outputs": [
    {
     "name": "stdout",
     "output_type": "stream",
     "text": [
      "6\n",
      "0\n",
      "1\n",
      "1\n",
      "1\n",
      "1\n",
      "1\n",
      "1\n",
      "1\n"
     ]
    }
   ],
   "source": [
    "# Display fibonacci series up to n terms\n",
    "\n",
    "n=int(input())\n",
    "\n",
    "a=0\n",
    "b=1\n",
    "\n",
    "print(a)\n",
    "print(b)\n",
    "\n",
    "for i in range(0,n):\n",
    "    new_no = a + b         # same number loop and not going next  &  need to go next number so that-convert next-next\n",
    "    \n",
    "    print(new_no)"
   ]
  },
  {
   "cell_type": "code",
   "execution_count": 11,
   "id": "4408a60d",
   "metadata": {
    "scrolled": true
   },
   "outputs": [
    {
     "name": "stdout",
     "output_type": "stream",
     "text": [
      "8\n",
      "0 1 1 2 3 5 8 13 21 34 "
     ]
    }
   ],
   "source": [
    "n=int(input())\n",
    "\n",
    "n1=0\n",
    "n2=1\n",
    "\n",
    "print(n1,end=\" \")\n",
    "print(n2,end=\" \")\n",
    "\n",
    "for i in range(0,n):      # for loop--> is for repetation only\n",
    "    new = n1 + n2\n",
    "    \n",
    "    n1 = n2             # n1 becomes n2 i.e. n1 get stored value of n2\n",
    "    n2 = new            # n2 becomes new i.e.n2 get stored value of new --> shifting will happens\n",
    "    \n",
    "    print(new,end=\" \")\n"
   ]
  },
  {
   "cell_type": "markdown",
   "id": "cec9a92a",
   "metadata": {},
   "source": [
    "Hi fellows kindly attempt this question:\n",
    "\n",
    "Write a program to print table of 12\n",
    "\n",
    "example: 12X1 = 12 12X2 = 24\n",
    "\n",
    "12X3 = 36 12X4 = 48 12X5 = 60 12X6 = 72"
   ]
  },
  {
   "cell_type": "code",
   "execution_count": 2,
   "id": "2bc79477",
   "metadata": {},
   "outputs": [
    {
     "name": "stdout",
     "output_type": "stream",
     "text": [
      "12 x 1 = 12\n",
      "12 x 2 = 24\n",
      "12 x 3 = 36\n",
      "12 x 4 = 48\n",
      "12 x 5 = 60\n",
      "12 x 6 = 72\n",
      "12 x 7 = 84\n",
      "12 x 8 = 96\n",
      "12 x 9 = 108\n",
      "12 x 10 = 120\n"
     ]
    }
   ],
   "source": [
    "n=12\n",
    "\n",
    "for i in range(1,11):\n",
    "    table = n*i\n",
    "    print(n,\"x\",i ,\"=\" ,table)"
   ]
  },
  {
   "cell_type": "code",
   "execution_count": 7,
   "id": "a550a792",
   "metadata": {},
   "outputs": [
    {
     "name": "stdout",
     "output_type": "stream",
     "text": [
      "120\n"
     ]
    }
   ],
   "source": [
    "# factorial  e.g. 5!\n",
    "n = 5\n",
    "\n",
    "fact = 1                   # we created one variable to assign...and which denote with 1 for initialisation\n",
    "for i in range(n,0,-1):    # e.g. i convert 5 then 4 then 3 etc..2,1 & not 0 include\n",
    "    fact = fact*i\n",
    "    \n",
    "print(fact)"
   ]
  },
  {
   "cell_type": "code",
   "execution_count": 6,
   "id": "7ceeec94",
   "metadata": {},
   "outputs": [
    {
     "name": "stdout",
     "output_type": "stream",
     "text": [
      "*****\n"
     ]
    }
   ],
   "source": [
    "print(\"*\"*5)"
   ]
  },
  {
   "cell_type": "code",
   "execution_count": 7,
   "id": "989a4a98",
   "metadata": {},
   "outputs": [
    {
     "data": {
      "text/plain": [
       "'NehaNeha'"
      ]
     },
     "execution_count": 7,
     "metadata": {},
     "output_type": "execute_result"
    }
   ],
   "source": [
    "\"Neha\"*2"
   ]
  },
  {
   "cell_type": "markdown",
   "id": "256058a9",
   "metadata": {},
   "source": [
    "## Pattern Printing"
   ]
  },
  {
   "cell_type": "code",
   "execution_count": 10,
   "id": "1a46cf8b",
   "metadata": {},
   "outputs": [
    {
     "name": "stdout",
     "output_type": "stream",
     "text": [
      "*\n",
      "**\n",
      "***\n",
      "****\n",
      "*****\n"
     ]
    }
   ],
   "source": [
    "num_rows = 5\n",
    "for row in range(1,num_rows+1):      # +1 we take because last no not included\n",
    "    print(\"*\"*row)                # row --> this was printing"
   ]
  },
  {
   "cell_type": "code",
   "execution_count": 15,
   "id": "66cba693",
   "metadata": {},
   "outputs": [
    {
     "name": "stdout",
     "output_type": "stream",
     "text": [
      "*****\n",
      "****\n",
      "***\n",
      "**\n",
      "*\n"
     ]
    }
   ],
   "source": [
    "num_of_rows = 5\n",
    "for row in range(1,num_of_rows+1):\n",
    "    print(\"*\"*(num_of_rows+1-row))    # num_of_rows+1-row ---> this was printing i.e. 6-1"
   ]
  },
  {
   "cell_type": "code",
   "execution_count": 15,
   "id": "fb8b3a75",
   "metadata": {},
   "outputs": [
    {
     "name": "stdout",
     "output_type": "stream",
     "text": [
      "*\n",
      "**\n",
      "***\n",
      "****\n",
      "*****\n",
      "******\n",
      "*******\n",
      "********\n",
      "*******\n",
      "******\n",
      "*****\n",
      "****\n",
      "***\n",
      "**\n",
      "*\n"
     ]
    }
   ],
   "source": [
    "num_rows = 8\n",
    "for row in range(1,num_rows+1):\n",
    "    print(\"*\"*row)\n",
    "    \n",
    "num_of_rows = num_rows-1\n",
    "for row in range(1,num_of_rows+1):\n",
    "    print(\"*\"*(num_of_rows+1-row))"
   ]
  },
  {
   "cell_type": "code",
   "execution_count": 3,
   "id": "6bf58b42",
   "metadata": {},
   "outputs": [
    {
     "name": "stdout",
     "output_type": "stream",
     "text": [
      "\n",
      "\n"
     ]
    }
   ],
   "source": [
    "num_rows = 3\n",
    "total_rows = num_rows*2-1\n",
    "for i in range(1,total_rows+1):\n",
    "    if i>num_rows:\n",
    "        print()"
   ]
  },
  {
   "cell_type": "code",
   "execution_count": 4,
   "id": "c6b9eb31",
   "metadata": {},
   "outputs": [
    {
     "name": "stdout",
     "output_type": "stream",
     "text": [
      "1 \n",
      "1 2 \n",
      "1 2 3 \n",
      "1 2 3 4 \n",
      "1 2 3 4 5 \n"
     ]
    }
   ],
   "source": [
    "for i in range(1,6):\n",
    "   for j in range(1,i+1):\n",
    "      print(j,end=\" \")\n",
    "   print()"
   ]
  },
  {
   "cell_type": "markdown",
   "id": "4e76a251",
   "metadata": {},
   "source": [
    "boolean datatype"
   ]
  },
  {
   "cell_type": "code",
   "execution_count": 6,
   "id": "0280a8a9",
   "metadata": {},
   "outputs": [],
   "source": [
    "a=2\n",
    "b=3"
   ]
  },
  {
   "cell_type": "code",
   "execution_count": 7,
   "id": "3acf9a1a",
   "metadata": {},
   "outputs": [
    {
     "data": {
      "text/plain": [
       "False"
      ]
     },
     "execution_count": 7,
     "metadata": {},
     "output_type": "execute_result"
    }
   ],
   "source": [
    "a==b"
   ]
  },
  {
   "cell_type": "code",
   "execution_count": 9,
   "id": "8e6c5a78",
   "metadata": {},
   "outputs": [
    {
     "data": {
      "text/plain": [
       "True"
      ]
     },
     "execution_count": 9,
     "metadata": {},
     "output_type": "execute_result"
    }
   ],
   "source": [
    "a<b"
   ]
  },
  {
   "cell_type": "code",
   "execution_count": 11,
   "id": "0e4ef403",
   "metadata": {},
   "outputs": [
    {
     "data": {
      "text/plain": [
       "bool"
      ]
     },
     "execution_count": 11,
     "metadata": {},
     "output_type": "execute_result"
    }
   ],
   "source": [
    "type(True)"
   ]
  },
  {
   "cell_type": "code",
   "execution_count": 16,
   "id": "883de6b3",
   "metadata": {},
   "outputs": [
    {
     "data": {
      "text/plain": [
       "False"
      ]
     },
     "execution_count": 16,
     "metadata": {},
     "output_type": "execute_result"
    }
   ],
   "source": []
  },
  {
   "cell_type": "markdown",
   "id": "988fa155",
   "metadata": {},
   "source": [
    "in operator"
   ]
  },
  {
   "cell_type": "code",
   "execution_count": null,
   "id": "0726f61a",
   "metadata": {},
   "outputs": [],
   "source": [
    "student = [\"rajdeep\",\"venti\",\"raman\",\"rohit\"]     # any collection we can use tuple instead list\n",
    "name =\"raman\"\n",
    "name in student"
   ]
  },
  {
   "cell_type": "code",
   "execution_count": 17,
   "id": "a92787ce",
   "metadata": {},
   "outputs": [
    {
     "data": {
      "text/plain": [
       "False"
      ]
     },
     "execution_count": 17,
     "metadata": {},
     "output_type": "execute_result"
    }
   ],
   "source": [
    "not(True)    # use to reverse the vlue"
   ]
  },
  {
   "cell_type": "code",
   "execution_count": 19,
   "id": "30ebaa83",
   "metadata": {},
   "outputs": [
    {
     "data": {
      "text/plain": [
       "True"
      ]
     },
     "execution_count": 19,
     "metadata": {},
     "output_type": "execute_result"
    }
   ],
   "source": [
    "not(\"raj\" in student)"
   ]
  },
  {
   "cell_type": "code",
   "execution_count": 20,
   "id": "3fa9d3c7",
   "metadata": {},
   "outputs": [
    {
     "data": {
      "text/plain": [
       "False"
      ]
     },
     "execution_count": 20,
     "metadata": {},
     "output_type": "execute_result"
    }
   ],
   "source": [
    "\"raj\" in student"
   ]
  },
  {
   "cell_type": "code",
   "execution_count": 21,
   "id": "17404f79",
   "metadata": {},
   "outputs": [
    {
     "data": {
      "text/plain": [
       "True"
      ]
     },
     "execution_count": 21,
     "metadata": {},
     "output_type": "execute_result"
    }
   ],
   "source": [
    "\"raj\" not in student"
   ]
  },
  {
   "cell_type": "markdown",
   "id": "646f4b25",
   "metadata": {},
   "source": [
    "1\n",
    "1 2 \n",
    "1 2 3 \n",
    "1 2 3 4\n",
    "1 2 3 4 5 \n",
    "\n",
    "print this pattern"
   ]
  },
  {
   "cell_type": "code",
   "execution_count": 43,
   "id": "3b906134",
   "metadata": {},
   "outputs": [
    {
     "name": "stdout",
     "output_type": "stream",
     "text": [
      "1 \n",
      "1 2 \n",
      "1 2 3 \n",
      "1 2 3 4 \n",
      "1 2 3 4 5 \n"
     ]
    }
   ],
   "source": [
    "\n",
    "for row in range(1,6):  # here row-->1,2,3,4,5\n",
    "   \n",
    "    for col in range(1,row+1):    # here becomes range(1,2)(1,3)(1,4)(1,5)(1,6) last value not included       \n",
    "        print(col,end=\" \")\n",
    "    print()                # print() we don't provide any parameter then it goes to new line..this print for outer for\n",
    "  "
   ]
  },
  {
   "cell_type": "markdown",
   "id": "e118d293",
   "metadata": {},
   "source": [
    "write a program to print the following pattern\n",
    "5 4 3 2 1\n",
    "4 3 2 1\n",
    "3 2 1\n",
    "2 1\n",
    "1"
   ]
  },
  {
   "cell_type": "code",
   "execution_count": 53,
   "id": "5a8640c2",
   "metadata": {
    "scrolled": false
   },
   "outputs": [
    {
     "name": "stdout",
     "output_type": "stream",
     "text": [
      "7 6 5 4 3 2 1 \n",
      "6 5 4 3 2 1 \n",
      "5 4 3 2 1 \n",
      "4 3 2 1 \n",
      "3 2 1 \n",
      "2 1 \n",
      "1 \n"
     ]
    }
   ],
   "source": [
    "for row in range(7,0,-1):\n",
    "    for col in range(row,0,-1):\n",
    "         print(col,end=\" \")\n",
    "    print()"
   ]
  },
  {
   "cell_type": "code",
   "execution_count": 55,
   "id": "bb47b7db",
   "metadata": {},
   "outputs": [
    {
     "name": "stdout",
     "output_type": "stream",
     "text": [
      "7 6 5 4 3 2 1 \n",
      "6 5 4 3 2 1 \n",
      "5 4 3 2 1 \n",
      "4 3 2 1 \n",
      "3 2 1 \n",
      "2 1 \n",
      "1 \n"
     ]
    }
   ],
   "source": [
    "# using variable\n",
    "total_rows = 7\n",
    "\n",
    "for row in range(1,total_rows+1):\n",
    "    for col in range(total_rows+1-row,0,-1):\n",
    "         print(col,end=\" \")\n",
    "    print()"
   ]
  },
  {
   "cell_type": "code",
   "execution_count": 1,
   "id": "883ec446",
   "metadata": {},
   "outputs": [
    {
     "name": "stdout",
     "output_type": "stream",
     "text": [
      "1 \n",
      "1 2 \n",
      "1 2 3 \n",
      "1 2 3 4 \n",
      "5 4 3 2 1 \n",
      "4 3 2 1 \n",
      "3 2 1 \n",
      "2 1 \n",
      "1 \n"
     ]
    }
   ],
   "source": [
    "for i in range(1,5):\n",
    "   for j in range(1,i+1):\n",
    "      print(j,end=\" \")\n",
    "   print()\n",
    "\n",
    "for i in range(5,0,-1):\n",
    "   for j in range(i,0,-1):\n",
    "      print(j,end=\" \")\n",
    "   print()"
   ]
  },
  {
   "cell_type": "code",
   "execution_count": null,
   "id": "4375a42b",
   "metadata": {},
   "outputs": [],
   "source": []
  },
  {
   "cell_type": "code",
   "execution_count": 5,
   "id": "4010937d",
   "metadata": {},
   "outputs": [
    {
     "name": "stdout",
     "output_type": "stream",
     "text": [
      "1\n",
      "2\n",
      "3\n",
      "4\n",
      "5\n",
      "6\n",
      "7\n",
      "8\n",
      "9\n",
      "10\n"
     ]
    }
   ],
   "source": [
    "# fol...loop\n",
    "for i in range(1,11):             # use for loop only when we know the range..i.e. start & end\n",
    "    print(i)                      # while loop when we dont know the end range"
   ]
  },
  {
   "cell_type": "code",
   "execution_count": 15,
   "id": "4053eaf4",
   "metadata": {},
   "outputs": [
    {
     "name": "stdout",
     "output_type": "stream",
     "text": [
      "1\n",
      "2\n",
      "3\n",
      "4\n",
      "5\n",
      "6\n",
      "7\n",
      "8\n",
      "9\n",
      "10\n"
     ]
    }
   ],
   "source": [
    "# while....loop          (here is not by default value like in for....loop)\n",
    "i = 1\n",
    "\n",
    "while i < 11 :\n",
    "    print(i)\n",
    "    i = i + 1                       # i += 1"
   ]
  },
  {
   "cell_type": "markdown",
   "id": "fd8cdbf9",
   "metadata": {},
   "source": [
    "## table"
   ]
  },
  {
   "cell_type": "code",
   "execution_count": 17,
   "id": "460c2c2d",
   "metadata": {},
   "outputs": [
    {
     "name": "stdout",
     "output_type": "stream",
     "text": [
      "2\n",
      "4\n",
      "6\n",
      "8\n",
      "10\n",
      "12\n",
      "14\n",
      "16\n",
      "18\n",
      "20\n"
     ]
    }
   ],
   "source": [
    "i = 2\n",
    "\n",
    "while i < 22 :\n",
    "    print(i)\n",
    "    i = i + 2"
   ]
  },
  {
   "cell_type": "code",
   "execution_count": 22,
   "id": "f3cb4329",
   "metadata": {},
   "outputs": [
    {
     "name": "stdout",
     "output_type": "stream",
     "text": [
      "2\n",
      "4\n",
      "6\n",
      "8\n",
      "10\n",
      "12\n",
      "14\n",
      "16\n",
      "18\n",
      "20\n"
     ]
    }
   ],
   "source": [
    "i = 1\n",
    "\n",
    "while i <= 10 :\n",
    "    print(2*i)\n",
    "    i = i + 1"
   ]
  },
  {
   "cell_type": "markdown",
   "id": "957ac379",
   "metadata": {},
   "source": [
    "# lenght of digit"
   ]
  },
  {
   "cell_type": "code",
   "execution_count": 3,
   "id": "8b5d4abe",
   "metadata": {},
   "outputs": [
    {
     "name": "stdout",
     "output_type": "stream",
     "text": [
      "Enter a number :20201211\n",
      "enter of digit : 8\n"
     ]
    }
   ],
   "source": [
    "num = int(input(\"Enter a number :\"))    #4631\n",
    "counter =0\n",
    "\n",
    "# num = num // 10     #46\n",
    "# counter += 1        #1\n",
    "\n",
    "# num = num // 10     #4\n",
    "# counter += 1        #2\n",
    "\n",
    "# num = num // 10    #0\n",
    "# counter += 1       #3\n",
    "\n",
    "while num != 0:             # !=   not equal to\n",
    "    num = num // 10\n",
    "    counter += 1\n",
    "    \n",
    "print(\"enter of digit :\",counter)"
   ]
  },
  {
   "cell_type": "markdown",
   "id": "ef992791",
   "metadata": {},
   "source": [
    "## sum of digit"
   ]
  },
  {
   "cell_type": "code",
   "execution_count": 5,
   "id": "95fdc588",
   "metadata": {},
   "outputs": [
    {
     "name": "stdout",
     "output_type": "stream",
     "text": [
      "Enter a number :564\n",
      "15\n"
     ]
    }
   ],
   "source": [
    "num = int(input(\"Enter a number :\"))  # 123      \n",
    "sum = 0\n",
    "\n",
    "while num > 0:\n",
    "    digit = num % 10     # remainder 3......... digit always written last digit  ||  2   ||   1\n",
    "    sum = sum + digit    # 3           || 5    ||    6  <---we get 6 finally\n",
    "    num = num // 10      # num 12      ||  1   ||    0\n",
    "    \n",
    "print(sum)"
   ]
  },
  {
   "cell_type": "markdown",
   "id": "5d35c7e0",
   "metadata": {},
   "source": [
    "## reverse of digits"
   ]
  },
  {
   "cell_type": "code",
   "execution_count": 6,
   "id": "333c209b",
   "metadata": {},
   "outputs": [
    {
     "name": "stdout",
     "output_type": "stream",
     "text": [
      "Enter a number that u want: 12345\n",
      "54321\n"
     ]
    }
   ],
   "source": [
    "number = int(input(\"Enter a number that u want: \")) # 123\n",
    "rev = 0\n",
    "\n",
    "while number > 0:\n",
    "    digit = number % 10     # 3  || 2  || 1 \n",
    "    rev = rev * 10 + digit  # 3  || 32 || 321\n",
    "    number = number // 10   # 12 || 1  || 0\n",
    "\n",
    "print(rev)"
   ]
  },
  {
   "cell_type": "markdown",
   "id": "1b465d15",
   "metadata": {},
   "source": [
    "## string"
   ]
  },
  {
   "cell_type": "code",
   "execution_count": 7,
   "id": "de993e8c",
   "metadata": {},
   "outputs": [
    {
     "name": "stdout",
     "output_type": "stream",
     "text": [
      "Python\n",
      "Python\n",
      "Python\n",
      "Python\n",
      "Bharati\n"
     ]
    }
   ],
   "source": [
    "# string - is a collectioon of characters\n",
    "# immutable\n",
    "# indexed-based\n",
    "# iterable\n",
    "# it is an object\n",
    "\n",
    "str1 = 'Python'\n",
    "print(str1)\n",
    "\n",
    "str1 = \"Python\"\n",
    "print(str1)\n",
    "\n",
    "str1 = '''Python'''\n",
    "print(str1)\n",
    "\n",
    "str1 = \"\"\"Python\"\"\"\n",
    "print(str1)\n",
    "\n",
    "\"\"\"\n",
    "str2 = \"Python's session is going on...\"\n",
    "print(str2)\n",
    "\n",
    "str2 = '''Python's session starts at \"7:30pm\"'''\n",
    "print(str2)\n",
    "\"\"\"\n",
    "\n",
    "str3 = str(\"Bharati\")\n",
    "print(str3)"
   ]
  },
  {
   "cell_type": "code",
   "execution_count": 8,
   "id": "06c513b7",
   "metadata": {},
   "outputs": [
    {
     "name": "stdout",
     "output_type": "stream",
     "text": [
      "OG :       Python is a programming language     \n",
      "RStrip :       Python is a programming language\n",
      "LStrip :  Python is a programming language     \n"
     ]
    }
   ],
   "source": [
    "str1 = \"     Python is a programming language     \"\n",
    "print(\"OG : \",str1)\n",
    "\n",
    "# upper = str1.upper()\n",
    "# print(\"Upper : \",upper)\n",
    "\n",
    "# lower = str1.lower()\n",
    "# print(\"Lower : \",lower)\n",
    "\n",
    "# capatialize = str1.capitalize()            # initial letter into capital\n",
    "# print(\"Capitalize : \",capatialize)\n",
    "\n",
    "# startsWith = str1.startswith(\"Python\")\n",
    "# print(\"Startswith : \",startsWith)\n",
    "\n",
    "# endsWith = str1.endswith(\"programming language\")\n",
    "# print(\"Endswith : \",endsWith)\n",
    "\n",
    "# is_lower = str1.islower()\n",
    "# print(\"Islower : \",is_lower)\n",
    "\n",
    "# is_upper = str1.isupper()\n",
    "# print(\"Isupper : \",is_upper)\n",
    "\n",
    "# length = len(str1)\n",
    "# print(\"Length : \",length)\n",
    "\n",
    "# swap_case = str1.swapcase()\n",
    "# print(\"Swap case : \",swap_case)\n",
    "\n",
    "# replace_demo = str1.replace(\"o\",\"a\")\n",
    "# print(\"Replace : \",replace_demo)\n",
    "\n",
    "# replace_demo = str1.replace(\"Python\",\"Java\")\n",
    "# print(\"Replace : \",replace_demo)\n",
    "\n",
    "# strip_demo = str1.strip()\n",
    "# print(\"Strip : \",strip_demo)\n",
    "\n",
    "rstrip_demo = str1.rstrip()\n",
    "print(\"RStrip : \",rstrip_demo)\n",
    "\n",
    "lstrip_demo = str1.lstrip()\n",
    "print(\"LStrip : \",lstrip_demo)"
   ]
  },
  {
   "cell_type": "code",
   "execution_count": 2,
   "id": "234399ce",
   "metadata": {},
   "outputs": [
    {
     "name": "stdout",
     "output_type": "stream",
     "text": [
      "0\n",
      "1\n",
      "2\n",
      "3\n",
      "4\n",
      "5\n"
     ]
    }
   ],
   "source": [
    "i = 0\n",
    "while i<6:\n",
    " \n",
    "    print(i)\n",
    "    i = i + 1"
   ]
  },
  {
   "cell_type": "code",
   "execution_count": 1,
   "id": "b8acf94a",
   "metadata": {},
   "outputs": [
    {
     "name": "stdout",
     "output_type": "stream",
     "text": [
      "0\n",
      "1\n",
      "2\n",
      "3\n",
      "out of for loop\n"
     ]
    }
   ],
   "source": [
    "i = 0\n",
    "while i<10:\n",
    "    \n",
    "    i = i + 1        #   i += 1\n",
    "    if i == 4:\n",
    "        break\n",
    "    print(i)\n",
    "             \n",
    "print(\"out of for loop\")"
   ]
  },
  {
   "cell_type": "code",
   "execution_count": 3,
   "id": "fd4b03c8",
   "metadata": {},
   "outputs": [
    {
     "name": "stdout",
     "output_type": "stream",
     "text": [
      "1\n",
      "2\n",
      "3\n",
      "4\n",
      "6\n",
      "7\n",
      "8\n",
      "9\n",
      "10\n"
     ]
    }
   ],
   "source": [
    "i = 0\n",
    "while i<10:\n",
    "    \n",
    "    i = i + 1\n",
    "    if i == 5:\n",
    "        continue         # we use continue for skipping that number after that continue\n",
    "    print(i)"
   ]
  },
  {
   "cell_type": "markdown",
   "id": "c7038f83",
   "metadata": {},
   "source": [
    "string ASCII value"
   ]
  },
  {
   "cell_type": "code",
   "execution_count": 9,
   "id": "91944373",
   "metadata": {},
   "outputs": [
    {
     "name": "stdout",
     "output_type": "stream",
     "text": [
      "ASCII VALUE of A = 65\n",
      "ASCII VALUE of Z = 90\n"
     ]
    }
   ],
   "source": [
    "print(\"ASCII VALUE of A =\",ord(\"A\"))\n",
    "print(\"ASCII VALUE of Z =\",ord(\"Z\"))"
   ]
  },
  {
   "cell_type": "code",
   "execution_count": 10,
   "id": "cb6e92ce",
   "metadata": {},
   "outputs": [
    {
     "data": {
      "text/plain": [
       "26"
      ]
     },
     "execution_count": 10,
     "metadata": {},
     "output_type": "execute_result"
    }
   ],
   "source": [
    "90-65+1"
   ]
  },
  {
   "cell_type": "code",
   "execution_count": 11,
   "id": "54f9ecf8",
   "metadata": {},
   "outputs": [
    {
     "data": {
      "text/plain": [
       "'E'"
      ]
     },
     "execution_count": 11,
     "metadata": {},
     "output_type": "execute_result"
    }
   ],
   "source": [
    "chr(ord(\"A\")+4)"
   ]
  },
  {
   "cell_type": "code",
   "execution_count": 13,
   "id": "7cf611a2",
   "metadata": {},
   "outputs": [
    {
     "data": {
      "text/plain": [
       "65"
      ]
     },
     "execution_count": 13,
     "metadata": {},
     "output_type": "execute_result"
    }
   ],
   "source": [
    "ord(\"A\")"
   ]
  },
  {
   "cell_type": "code",
   "execution_count": 14,
   "id": "31966431",
   "metadata": {},
   "outputs": [
    {
     "data": {
      "text/plain": [
       "'E'"
      ]
     },
     "execution_count": 14,
     "metadata": {},
     "output_type": "execute_result"
    }
   ],
   "source": [
    "chr(69)  # reverse func"
   ]
  },
  {
   "cell_type": "code",
   "execution_count": 15,
   "id": "9698485e",
   "metadata": {},
   "outputs": [
    {
     "data": {
      "text/plain": [
       "'a'"
      ]
     },
     "execution_count": 15,
     "metadata": {},
     "output_type": "execute_result"
    }
   ],
   "source": [
    "\"A\".lower()"
   ]
  },
  {
   "cell_type": "code",
   "execution_count": 16,
   "id": "99bac50e",
   "metadata": {},
   "outputs": [
    {
     "data": {
      "text/plain": [
       "65"
      ]
     },
     "execution_count": 16,
     "metadata": {},
     "output_type": "execute_result"
    }
   ],
   "source": [
    "ord(\"A\") "
   ]
  },
  {
   "cell_type": "code",
   "execution_count": 17,
   "id": "b25987eb",
   "metadata": {},
   "outputs": [
    {
     "data": {
      "text/plain": [
       "97"
      ]
     },
     "execution_count": 17,
     "metadata": {},
     "output_type": "execute_result"
    }
   ],
   "source": [
    "ord(\"a\")"
   ]
  },
  {
   "cell_type": "code",
   "execution_count": 18,
   "id": "0473c1f9",
   "metadata": {},
   "outputs": [
    {
     "data": {
      "text/plain": [
       "32"
      ]
     },
     "execution_count": 18,
     "metadata": {},
     "output_type": "execute_result"
    }
   ],
   "source": [
    "97-65"
   ]
  },
  {
   "cell_type": "code",
   "execution_count": 20,
   "id": "681e5b42",
   "metadata": {},
   "outputs": [
    {
     "data": {
      "text/plain": [
       "'a'"
      ]
     },
     "execution_count": 20,
     "metadata": {},
     "output_type": "execute_result"
    }
   ],
   "source": [
    "chr(ord(\"A\")+32)"
   ]
  },
  {
   "cell_type": "markdown",
   "id": "652c5364",
   "metadata": {},
   "source": [
    "### string concatenation"
   ]
  },
  {
   "cell_type": "code",
   "execution_count": 21,
   "id": "9d2f1dd6",
   "metadata": {},
   "outputs": [
    {
     "data": {
      "text/plain": [
       "'venkiraman'"
      ]
     },
     "execution_count": 21,
     "metadata": {},
     "output_type": "execute_result"
    }
   ],
   "source": [
    "\"venki\"+\"raman\""
   ]
  },
  {
   "cell_type": "code",
   "execution_count": 22,
   "id": "16c0835d",
   "metadata": {},
   "outputs": [
    {
     "data": {
      "text/plain": [
       "'venki raman'"
      ]
     },
     "execution_count": 22,
     "metadata": {},
     "output_type": "execute_result"
    }
   ],
   "source": [
    "\"venki\"+\" \"+\"raman\""
   ]
  },
  {
   "cell_type": "code",
   "execution_count": 23,
   "id": "a0f29eba",
   "metadata": {},
   "outputs": [
    {
     "data": {
      "text/plain": [
       "'**********'"
      ]
     },
     "execution_count": 23,
     "metadata": {},
     "output_type": "execute_result"
    }
   ],
   "source": [
    "\"*\"*10"
   ]
  },
  {
   "cell_type": "code",
   "execution_count": 24,
   "id": "b82269b3",
   "metadata": {},
   "outputs": [
    {
     "ename": "TypeError",
     "evalue": "can't multiply sequence by non-int of type 'str'",
     "output_type": "error",
     "traceback": [
      "\u001b[1;31m---------------------------------------------------------------------------\u001b[0m",
      "\u001b[1;31mTypeError\u001b[0m                                 Traceback (most recent call last)",
      "Cell \u001b[1;32mIn[24], line 1\u001b[0m\n\u001b[1;32m----> 1\u001b[0m \u001b[38;5;124;43m\"\u001b[39;49m\u001b[38;5;124;43m*\u001b[39;49m\u001b[38;5;124;43m\"\u001b[39;49m\u001b[38;5;241;43m*\u001b[39;49m\u001b[38;5;124;43m\"\u001b[39;49m\u001b[38;5;124;43m5\u001b[39;49m\u001b[38;5;124;43m\"\u001b[39;49m\n",
      "\u001b[1;31mTypeError\u001b[0m: can't multiply sequence by non-int of type 'str'"
     ]
    }
   ],
   "source": [
    "\"*\"*\"5\" # only addition of string is allow not multiplication"
   ]
  },
  {
   "cell_type": "code",
   "execution_count": 25,
   "id": "e6579e81",
   "metadata": {},
   "outputs": [],
   "source": [
    "# variable assign\n",
    "a,b,c = \"raj\",20,30    # here u can use list or tuple also\n"
   ]
  },
  {
   "cell_type": "code",
   "execution_count": 26,
   "id": "2f009f73",
   "metadata": {},
   "outputs": [
    {
     "data": {
      "text/plain": [
       "'raj'"
      ]
     },
     "execution_count": 26,
     "metadata": {},
     "output_type": "execute_result"
    }
   ],
   "source": [
    "a      # unpacking"
   ]
  },
  {
   "cell_type": "code",
   "execution_count": 27,
   "id": "9b513ac7",
   "metadata": {},
   "outputs": [
    {
     "data": {
      "text/plain": [
       "20"
      ]
     },
     "execution_count": 27,
     "metadata": {},
     "output_type": "execute_result"
    }
   ],
   "source": [
    "b"
   ]
  },
  {
   "cell_type": "code",
   "execution_count": 28,
   "id": "f1772515",
   "metadata": {},
   "outputs": [
    {
     "data": {
      "text/plain": [
       "30"
      ]
     },
     "execution_count": 28,
     "metadata": {},
     "output_type": "execute_result"
    }
   ],
   "source": [
    "c"
   ]
  },
  {
   "cell_type": "code",
   "execution_count": null,
   "id": "cb80def4",
   "metadata": {},
   "outputs": [],
   "source": [
    "# nested set is not possible...because elements inside set are immutable...and set itself is mutable"
   ]
  },
  {
   "cell_type": "markdown",
   "id": "8a59ce73",
   "metadata": {},
   "source": [
    " print following pattern useing \n",
    " 1) for loop\n",
    " 2) while loop\n",
    "    *\n",
    "   **\n",
    "  ***\n",
    " ****\n",
    "*****"
   ]
  },
  {
   "cell_type": "code",
   "execution_count": 10,
   "id": "4844027a",
   "metadata": {},
   "outputs": [
    {
     "name": "stdout",
     "output_type": "stream",
     "text": [
      "     \n",
      "    *\n",
      "   **\n",
      "  ***\n",
      " ****\n",
      "*****\n"
     ]
    }
   ],
   "source": [
    "n = 5\n",
    "for i in range(n+1):\n",
    "    for j in range(n,i,-1):     # (n - i)*\" \" + \"*\"*i\n",
    "        print(\" \",end=\"\")\n",
    "    print(\"*\"*i)"
   ]
  },
  {
   "cell_type": "code",
   "execution_count": 19,
   "id": "5203f5a0",
   "metadata": {},
   "outputs": [
    {
     "name": "stdout",
     "output_type": "stream",
     "text": [
      "     \n",
      "    *\n",
      "   **\n",
      "  ***\n",
      " ****\n",
      "*****\n"
     ]
    }
   ],
   "source": [
    "n = 5\n",
    "for i in range(n+1):\n",
    "    pattern=(n - i)*\" \" + \"*\"*i\n",
    "    print(pattern)"
   ]
  },
  {
   "cell_type": "code",
   "execution_count": 18,
   "id": "43ab08f2",
   "metadata": {},
   "outputs": [
    {
     "name": "stdout",
     "output_type": "stream",
     "text": [
      "     *\n",
      "    **\n",
      "   ***\n",
      "  ****\n",
      " *****\n"
     ]
    }
   ],
   "source": [
    "n = 6\n",
    "i = 1\n",
    "while i<n :\n",
    "    print((n - i)*\" \" + \"*\"*i)\n",
    "    i = i+1"
   ]
  },
  {
   "cell_type": "code",
   "execution_count": 4,
   "id": "bd2b62af",
   "metadata": {},
   "outputs": [
    {
     "name": "stdout",
     "output_type": "stream",
     "text": [
      "{10: 2, 12: 1, 30: 1, 40: 1, 41: 1, 52: 1, 53: 1}\n"
     ]
    }
   ],
   "source": [
    "#creat a dictionary with the number as key and the count of that number as value\n",
    "#marks = [10,12,30,40,41,52,53,10]\n",
    "# {10:2,12:1...and so on} / {element:count_of_that_element}\n",
    "\n",
    "mark = [10,12,30,30,40,41,40,52,53,10]\n",
    "\n",
    "mark_dict = {}                         # created a blank dictionary to store keys and values\n",
    "\n",
    "for i in marks:\n",
    "    \n",
    "    dict_key = i\n",
    "    \n",
    "    dict_value = marks.count(i)\n",
    "    \n",
    "    mark_dict[dict_key] = dict_value  \n",
    "    \n",
    "print(mark_dict)"
   ]
  },
  {
   "cell_type": "code",
   "execution_count": 20,
   "id": "bb3802ce",
   "metadata": {},
   "outputs": [
    {
     "name": "stdout",
     "output_type": "stream",
     "text": [
      "{10: 2, 12: 1, 30: 2, 40: 2, 41: 1, 52: 1, 53: 1}\n"
     ]
    }
   ],
   "source": [
    "marks = [10,12,30,40,41,40,52,53,10]\n",
    "\n",
    "mark_dict = {}\n",
    "\n",
    "for i in marks:\n",
    "       if i not in mark_dict:          # to check on list for avoid same operations two times \n",
    "        \n",
    "        mark_dict[i] = mark.count(i)\n",
    "        \n",
    "print(mark_dict)"
   ]
  },
  {
   "cell_type": "code",
   "execution_count": 2,
   "id": "485c0ebc",
   "metadata": {},
   "outputs": [
    {
     "name": "stdout",
     "output_type": "stream",
     "text": [
      "{10: 2, 12: 1, 30: 1, 40: 2, 41: 1, 52: 1, 53: 1}\n"
     ]
    }
   ],
   "source": [
    "marks = [10,12,30,40,41,40,52,53,10]\n",
    "mark_dict ={}\n",
    "\n",
    "for i in marks:\n",
    "    \n",
    "    if i in mark_dict.keys():\n",
    "        \n",
    "        mark_dict[i]= mark_dict[i]+1   # mark_dict[i] mean value of i key\n",
    "        \n",
    "    else:\n",
    "        mark_dict[i]=1\n",
    "        \n",
    "print(mark_dict)"
   ]
  },
  {
   "cell_type": "code",
   "execution_count": 4,
   "id": "114fa3fc",
   "metadata": {},
   "outputs": [
    {
     "data": {
      "text/plain": [
       "dict_keys([10, 12, 30, 40, 41, 52, 53])"
      ]
     },
     "execution_count": 4,
     "metadata": {},
     "output_type": "execute_result"
    }
   ],
   "source": [
    "mark_dict.keys()"
   ]
  },
  {
   "cell_type": "code",
   "execution_count": 5,
   "id": "a0432071",
   "metadata": {},
   "outputs": [
    {
     "data": {
      "text/plain": [
       "dict_values([2, 1, 1, 2, 1, 1, 1])"
      ]
     },
     "execution_count": 5,
     "metadata": {},
     "output_type": "execute_result"
    }
   ],
   "source": [
    "mark_dict.values()"
   ]
  },
  {
   "cell_type": "code",
   "execution_count": 6,
   "id": "9c291c55",
   "metadata": {},
   "outputs": [
    {
     "data": {
      "text/plain": [
       "dict_items([(10, 2), (12, 1), (30, 1), (40, 2), (41, 1), (52, 1), (53, 1)])"
      ]
     },
     "execution_count": 6,
     "metadata": {},
     "output_type": "execute_result"
    }
   ],
   "source": [
    "mark_dict.items()             #to get keys & values in the form of tuple"
   ]
  },
  {
   "cell_type": "code",
   "execution_count": 15,
   "id": "127a68e9",
   "metadata": {},
   "outputs": [
    {
     "name": "stdout",
     "output_type": "stream",
     "text": [
      "10 -----> 2\n",
      "12 -----> 1\n",
      "30 -----> 1\n",
      "40 -----> 2\n",
      "41 -----> 1\n",
      "52 -----> 1\n",
      "53 -----> 1\n"
     ]
    }
   ],
   "source": [
    "for mr,cnt in mark_dict.items():           # mr and cnt are variables which store values from mark_dict\n",
    "    print(mr,\"----->\",cnt)"
   ]
  },
  {
   "cell_type": "code",
   "execution_count": 18,
   "id": "b730c1d3",
   "metadata": {},
   "outputs": [
    {
     "name": "stdout",
     "output_type": "stream",
     "text": [
      "(10, 2)\n",
      "(12, 1)\n",
      "(30, 1)\n",
      "(40, 2)\n",
      "(41, 1)\n",
      "(52, 1)\n",
      "(53, 1)\n"
     ]
    }
   ],
   "source": [
    "for num in mark_dict.items():          \n",
    "    print(num)"
   ]
  },
  {
   "cell_type": "code",
   "execution_count": 17,
   "id": "df7a8d0e",
   "metadata": {},
   "outputs": [
    {
     "name": "stdout",
     "output_type": "stream",
     "text": [
      "{10: 2, 12: 1, 30: 1, 40: 2, 41: 1, 52: 1, 53: 1}\n"
     ]
    }
   ],
   "source": [
    "print(mark_dict)"
   ]
  },
  {
   "cell_type": "code",
   "execution_count": null,
   "id": "41075b40",
   "metadata": {},
   "outputs": [],
   "source": []
  },
  {
   "cell_type": "code",
   "execution_count": null,
   "id": "40b49d44",
   "metadata": {},
   "outputs": [],
   "source": []
  },
  {
   "cell_type": "markdown",
   "id": "99e448a9",
   "metadata": {},
   "source": [
    "marks_dict = {\n",
    "    \n",
    "    \"Sana\":[50,51,90,65,43],\n",
    "    \"Bhushan\":[87,35,65,34,65],\n",
    "    \"Swetha\": [65,45,76,43,56],\n",
    "    \"Rajat\": [90,12,23,54,56]\n",
    "}\n",
    "\n",
    "the above dictionary create a new dictionary where the key is the name of the student\n",
    "and value is the average marks the student got in last 5 exams"
   ]
  },
  {
   "cell_type": "code",
   "execution_count": 12,
   "id": "9b1d1248",
   "metadata": {},
   "outputs": [
    {
     "name": "stdout",
     "output_type": "stream",
     "text": [
      "Sana -----> 59.8\n",
      "Bhushan -----> 57.2\n",
      "Swetha -----> 57.0\n",
      "Rajat -----> 47.0\n"
     ]
    }
   ],
   "source": [
    "marks_dict1 = {\n",
    "\"Sana\":[50,51,90,65,43],\n",
    "\"Bhushan\":[87,35,65,34,65],\n",
    "\"Swetha\": [65,45,76,43,56],\n",
    "\"Rajat\": [90,12,23,54,56]\n",
    "}\n",
    "\n",
    "for mr,cnt in marks_dict1.items():\n",
    "    \n",
    "    print(mr,\"----->\", sum(cnt)/len(cnt) )"
   ]
  },
  {
   "cell_type": "code",
   "execution_count": 13,
   "id": "9888567b",
   "metadata": {},
   "outputs": [
    {
     "name": "stdout",
     "output_type": "stream",
     "text": [
      "{'Sana': 59.8, 'Bhushan': 57.2, 'Swetha': 57.0, 'Rajat': 47.0}\n"
     ]
    }
   ],
   "source": [
    "marks_dict1 = {\n",
    "\"Sana\":[50,51,90,65,43],\n",
    "\"Bhushan\":[87,35,65,34,65],\n",
    "\"Swetha\": [65,45,76,43,56],\n",
    "\"Rajat\": [90,12,23,54,56]\n",
    "}\n",
    "\n",
    "average_dict = {}\n",
    "for student,marks in marks_dict1.items():  # for call_keys,call_values in call_dict_name.items():\n",
    "    average = sum(marks) / len(marks)\n",
    "    average_dict[student] = average         # dict_name[keys] = values\n",
    "     \n",
    "print(average_dict)"
   ]
  },
  {
   "cell_type": "markdown",
   "id": "19e2aaa8",
   "metadata": {},
   "source": [
    "a\n",
    "ab\n",
    "abc\n",
    "abcd\n",
    "abcde\n",
    "abcdef\n",
    "abcdefg\n",
    "abcdefghi\n",
    "abcdefghij\n",
    "\n",
    "above apttern print"
   ]
  },
  {
   "cell_type": "code",
   "execution_count": 15,
   "id": "caf22631",
   "metadata": {},
   "outputs": [
    {
     "name": "stdout",
     "output_type": "stream",
     "text": [
      "a\n",
      "ab\n",
      "abc\n",
      "abcd\n",
      "abcde\n",
      "abcdef\n",
      "abcdefg\n",
      "abcdefgh\n",
      "abcdefghi\n",
      "abcdefghij\n"
     ]
    }
   ],
   "source": [
    "for row in range(1,11):\n",
    "    for col in range(1,row+1):\n",
    "        print(chr(96+col),end=\"\")\n",
    "    print()\n",
    "    "
   ]
  },
  {
   "cell_type": "code",
   "execution_count": 19,
   "id": "dd0f025b",
   "metadata": {},
   "outputs": [
    {
     "name": "stdout",
     "output_type": "stream",
     "text": [
      "a\n",
      "ab\n",
      "abc\n",
      "abcd\n",
      "abcde\n",
      "abcdef\n",
      "abcdefg\n",
      "abcdefgh\n",
      "abcdefghi\n",
      "abcdefghij\n"
     ]
    }
   ],
   "source": [
    "num_sequences = 10\n",
    "\n",
    "for i in range(1,num_sequences + 1):\n",
    "    sequence = \"\"\n",
    "    for j in range(i):\n",
    "        sequence = sequence + chr(ord('a')+j)\n",
    "    print(sequence)"
   ]
  },
  {
   "cell_type": "code",
   "execution_count": 20,
   "id": "de3b9473",
   "metadata": {},
   "outputs": [
    {
     "name": "stdout",
     "output_type": "stream",
     "text": [
      "a\n",
      "ab\n",
      "abc\n",
      "abcd\n",
      "abcde\n",
      "abcdef\n",
      "abcdefg\n",
      "abcdefgh\n",
      "abcdefghi\n",
      "abcdefghij\n"
     ]
    }
   ],
   "source": [
    "n = 10\n",
    "for i in range(0,10):\n",
    "    x = 97\n",
    "    for j in range(0,i+1):\n",
    "        print(chr(x),end=\"\")\n",
    "        x=x+1\n",
    "    print()"
   ]
  },
  {
   "cell_type": "markdown",
   "id": "c3eb63fd",
   "metadata": {},
   "source": [
    "## nested dictionary"
   ]
  },
  {
   "cell_type": "code",
   "execution_count": 1,
   "id": "0ade2da5",
   "metadata": {},
   "outputs": [],
   "source": [
    "marks = {\n",
    "          \"sana\":{\n",
    "                   \"python\":{\"12th june\":90,\"12th june\":90},\n",
    "                   \"ML\":87,\n",
    "                   \"Deep Learning\":87  \n",
    "                 }\n",
    "        }"
   ]
  },
  {
   "cell_type": "code",
   "execution_count": 2,
   "id": "c75b5353",
   "metadata": {},
   "outputs": [
    {
     "data": {
      "text/plain": [
       "{'python': {'12th june': 90}, 'ML': 87, 'Deep Learning': 87}"
      ]
     },
     "execution_count": 2,
     "metadata": {},
     "output_type": "execute_result"
    }
   ],
   "source": [
    "marks[\"sana\"]"
   ]
  },
  {
   "cell_type": "code",
   "execution_count": 3,
   "id": "d857b025",
   "metadata": {},
   "outputs": [
    {
     "data": {
      "text/plain": [
       "90"
      ]
     },
     "execution_count": 3,
     "metadata": {},
     "output_type": "execute_result"
    }
   ],
   "source": [
    "marks[\"sana\"][\"python\"][\"12th june\"]"
   ]
  },
  {
   "cell_type": "code",
   "execution_count": null,
   "id": "dd9e6374",
   "metadata": {},
   "outputs": [],
   "source": []
  },
  {
   "cell_type": "code",
   "execution_count": 1,
   "id": "e0f2b7e8",
   "metadata": {},
   "outputs": [],
   "source": [
    "                                  # dict allow in only value part not in key part\n",
    "dict_marks = {   \n",
    "                 \"raj\":{\"python\":90,\"java\":50},\n",
    "                 \"raman\":{\"python\":80,\"java\":100},\n",
    "                 \"sana\":{\"python\":20,\"java\":80}\n",
    "             }\n"
   ]
  },
  {
   "cell_type": "code",
   "execution_count": 7,
   "id": "28bb879a",
   "metadata": {},
   "outputs": [
    {
     "data": {
      "text/plain": [
       "100"
      ]
     },
     "execution_count": 7,
     "metadata": {},
     "output_type": "execute_result"
    }
   ],
   "source": [
    "dict_marks[\"raman\"][\"java\"]"
   ]
  },
  {
   "cell_type": "code",
   "execution_count": 15,
   "id": "b1c9a7b2",
   "metadata": {},
   "outputs": [
    {
     "data": {
      "text/plain": [
       "90"
      ]
     },
     "execution_count": 15,
     "metadata": {},
     "output_type": "execute_result"
    }
   ],
   "source": [
    "dict_marks[\"raj\"][\"python\"]"
   ]
  },
  {
   "cell_type": "code",
   "execution_count": 5,
   "id": "36bc7c4f",
   "metadata": {},
   "outputs": [
    {
     "name": "stdout",
     "output_type": "stream",
     "text": [
      "raj -----> 90\n",
      "raj -----> 50\n",
      "raman -----> 80\n",
      "raman -----> 100\n",
      "sana -----> 20\n",
      "sana -----> 80\n"
     ]
    }
   ],
   "source": [
    "for key,val in dict_marks.items():\n",
    "    for inner_key,inner_val in val.items():\n",
    "        print(key,\"----->\",inner_val)"
   ]
  },
  {
   "cell_type": "markdown",
   "id": "9e050483",
   "metadata": {},
   "source": [
    "12344321\n",
    "123**321\n",
    "12****21\n",
    "1******1\n",
    "\n",
    "print above pattern"
   ]
  },
  {
   "cell_type": "code",
   "execution_count": 9,
   "id": "fa895751",
   "metadata": {},
   "outputs": [
    {
     "name": "stdout",
     "output_type": "stream",
     "text": [
      "12344321\n",
      "123**321\n",
      "12****21\n",
      "1******1\n"
     ]
    }
   ],
   "source": [
    "for i in range(4):\n",
    "    base_str = \"1234\"                            \n",
    "    base_str = base_str[ :len(base_str)-i]+\"*\"*i        # slice of this string\n",
    "    base_str = base_str + base_str[: : -1]              # for reverse\n",
    "    print(base_str)"
   ]
  },
  {
   "cell_type": "code",
   "execution_count": null,
   "id": "b330c02f",
   "metadata": {},
   "outputs": [],
   "source": []
  },
  {
   "cell_type": "code",
   "execution_count": null,
   "id": "53c10426",
   "metadata": {},
   "outputs": [],
   "source": []
  },
  {
   "cell_type": "code",
   "execution_count": null,
   "id": "6a845b6c",
   "metadata": {},
   "outputs": [],
   "source": []
  }
 ],
 "metadata": {
  "kernelspec": {
   "display_name": "Python 3 (ipykernel)",
   "language": "python",
   "name": "python3"
  },
  "language_info": {
   "codemirror_mode": {
    "name": "ipython",
    "version": 3
   },
   "file_extension": ".py",
   "mimetype": "text/x-python",
   "name": "python",
   "nbconvert_exporter": "python",
   "pygments_lexer": "ipython3",
   "version": "3.10.9"
  }
 },
 "nbformat": 4,
 "nbformat_minor": 5
}
